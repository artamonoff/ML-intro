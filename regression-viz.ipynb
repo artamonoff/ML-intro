{
 "cells": [
  {
   "cell_type": "markdown",
   "metadata": {},
   "source": [
    "# Визуализация прогноза в задаче регрессии"
   ]
  },
  {
   "cell_type": "code",
   "execution_count": null,
   "metadata": {},
   "outputs": [],
   "source": [
    "import numpy as np\n",
    "import pandas as pd\n",
    "\n",
    "from sklearn.linear_model import LinearRegression, Ridge, Lasso\n",
    "from sklearn.neighbors import KNeighborsRegressor\n",
    "from sklearn.tree import DecisionTreeRegressor\n",
    "from sklearn.svm import LinearSVR, SVR\n",
    "\n",
    "from sklearn.model_selection import train_test_split\n",
    "\n",
    "import matplotlib.pyplot as plt\n",
    "\n",
    "# Не показывать Warning\n",
    "import warnings\n",
    "warnings.simplefilter(action='ignore', category=Warning)"
   ]
  },
  {
   "cell_type": "code",
   "execution_count": null,
   "metadata": {},
   "outputs": [],
   "source": [
    "# загрузим данные\n",
    "df = pd.read_csv('./datasets/sleep75.csv')"
   ]
  },
  {
   "cell_type": "code",
   "execution_count": null,
   "metadata": {},
   "outputs": [],
   "source": [
    "y = df['sleep']\n",
    "X = df['totwrk']\n",
    "# Разобьём выборку на обучающую и тестовую 80:20\n",
    "X_train,X_test,y_train,y_test = train_test_split(X,y,test_size=0.2,random_state=0)\n",
    "\n",
    "X_train = np.reshape(X_train, (len(X_train), 1))"
   ]
  },
  {
   "cell_type": "markdown",
   "metadata": {},
   "source": [
    "## Спецификация и подгонка моделей"
   ]
  },
  {
   "cell_type": "code",
   "execution_count": null,
   "metadata": {},
   "outputs": [],
   "source": [
    "rgr_lin = LinearRegression()\n",
    "rgr_lin.fit(X_train, y_train)\n",
    "\n",
    "rgr_neighb = KNeighborsRegressor(n_neighbors=5, weights='uniform')\n",
    "rgr_neighb.fit(X_train, y_train)\n",
    "\n",
    "rgr_tree = DecisionTreeRegressor(max_depth=5, random_state=0)\n",
    "rgr_tree.fit(X_train, y_train)\n",
    "\n",
    "rgr_lin_svr = LinearSVR(C=1.0, random_state=0)\n",
    "rgr_lin_svr.fit(X_train, y_train)\n",
    "\n",
    "rgr_kernel_svr = SVR(kernel='rbf', C=1.0)\n",
    "rgr_kernel_svr.fit(X_train, y_train)"
   ]
  },
  {
   "cell_type": "markdown",
   "metadata": {},
   "source": [
    "# Метрики подгонки"
   ]
  },
  {
   "cell_type": "code",
   "execution_count": null,
   "metadata": {},
   "outputs": [],
   "source": [
    "print('Linear regression R2: %.3f' % rgr_lin.score(np.reshape(X_test, (len(X_test), 1)), y_test))\n",
    "print('kNN R2: %.3f' % rgr_neighb.score(np.reshape(X_test, (len(X_test), 1)), y_test))\n",
    "print('Tree R2: %.3f' % rgr_tree.score(np.reshape(X_test, (len(X_test), 1)), y_test))\n",
    "print('Linear SVR R2: %.3f' % rgr_lin_svr.score(np.reshape(X_test, (len(X_test), 1)), y_test))\n",
    "print('Kernel SVR R2: %.3f' % rgr_kernel_svr.score(np.reshape(X_test, (len(X_test), 1)), y_test))"
   ]
  },
  {
   "cell_type": "markdown",
   "metadata": {},
   "source": [
    "# Визуализация"
   ]
  },
  {
   "cell_type": "code",
   "execution_count": null,
   "metadata": {},
   "outputs": [],
   "source": [
    "x = np.arange(X.min()-5, X.max()+5, 5)\n",
    "\n",
    "fig, axs = plt.subplots(nrows=2, ncols=2, figsize=(8,8))\n",
    "\n",
    "axs[0,0].scatter(x=X_test, y=y_test, s=5, c='r')\n",
    "axs[0,0].plot(x, rgr_lin.predict( np.reshape(x, (len(x), 1)) ))\n",
    "axs[0,0].set_title('Linear')\n",
    "\n",
    "axs[0,1].scatter(x=X_test, y=y_test, s=5, c='r')\n",
    "axs[0,1].plot(x, rgr_neighb.predict( np.reshape(x, (len(x), 1)) ))\n",
    "axs[0,1].set_title('kNN')\n",
    "\n",
    "axs[1,0].scatter(x=X_test, y=y_test, s=5, c='r')\n",
    "axs[1,0].plot(x, rgr_tree.predict( np.reshape(x, (len(x), 1)) ))\n",
    "axs[1,0].set_title('Tree')\n",
    "\n",
    "axs[1,1].scatter(x=X_test, y=y_test, s=5, c='r')\n",
    "axs[1,1].plot(x, rgr_lin_svr.predict( np.reshape(x, (len(x), 1)) ), label='linear')\n",
    "axs[1,1].plot(x, rgr_kernel_svr.predict( np.reshape(x, (len(x), 1)) ), label='kernel')\n",
    "axs[1,1].legend()\n",
    "axs[1,1].set_title('SVR')\n",
    "\n",
    "plt.show()"
   ]
  }
 ],
 "metadata": {
  "kernelspec": {
   "display_name": "base",
   "language": "python",
   "name": "python3"
  },
  "language_info": {
   "codemirror_mode": {
    "name": "ipython",
    "version": 3
   },
   "file_extension": ".py",
   "mimetype": "text/x-python",
   "name": "python",
   "nbconvert_exporter": "python",
   "pygments_lexer": "ipython3",
   "version": "3.12.10"
  }
 },
 "nbformat": 4,
 "nbformat_minor": 2
}
