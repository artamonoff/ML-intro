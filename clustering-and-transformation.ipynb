{
 "cells": [
  {
   "cell_type": "markdown",
   "metadata": {},
   "source": [
    "# Кластеризация и преобразование данных"
   ]
  },
  {
   "cell_type": "code",
   "execution_count": null,
   "metadata": {},
   "outputs": [],
   "source": [
    "import pandas as pd\n",
    "import numpy as np\n",
    "\n",
    "from sklearn.cluster import KMeans, AgglomerativeClustering, DBSCAN\n",
    "from sklearn.metrics import silhouette_score, calinski_harabasz_score, davies_bouldin_score\n",
    "from sklearn.neighbors import NearestNeighbors # расстояние доя ближайших соседей для DBSCAN\n",
    "from sklearn.preprocessing import QuantileTransformer, PowerTransformer # преобразование данных\n",
    "from sklearn.preprocessing import StandardScaler  # z-нормировка\n",
    "# from sklearn.preprocessing import MinMaxScaler, RobustScaler, MaxAbsScaler # другие способы нормировки\n",
    "\n",
    "import seaborn as sns # 2D-визуализация\n",
    "import matplotlib.pyplot as plt\n",
    "import plotly.express as px # 3D-визуализация\n",
    "\n",
    "# Не показывать Warning\n",
    "import warnings\n",
    "warnings.simplefilter(action='ignore', category=Warning)"
   ]
  },
  {
   "cell_type": "code",
   "execution_count": null,
   "metadata": {},
   "outputs": [],
   "source": [
    "df = pd.read_csv('./datasets/countries.csv')\n",
    "X = df.drop(columns=['Страны'])\n",
    "X.index = df['Страны']"
   ]
  },
  {
   "cell_type": "code",
   "execution_count": null,
   "metadata": {},
   "outputs": [],
   "source": [
    "sns.pairplot(X)\n",
    "plt.show()"
   ]
  },
  {
   "cell_type": "code",
   "execution_count": null,
   "metadata": {},
   "outputs": [],
   "source": [
    "transformer = PowerTransformer(method='yeo-johnson')\n",
    "# transformer = PowerTransformer(method='box-cox')\n",
    "# transformer = QuantileTransformer(output_distribution='normal', random_state=0)\n",
    "\n",
    "X_tr = transformer.fit_transform(X)\n",
    "X_tr = pd.DataFrame(X_tr, columns=X.columns)\n"
   ]
  },
  {
   "cell_type": "code",
   "execution_count": null,
   "metadata": {},
   "outputs": [],
   "source": [
    "sns.pairplot(X_tr)\n",
    "plt.show()"
   ]
  },
  {
   "cell_type": "code",
   "execution_count": null,
   "metadata": {},
   "outputs": [],
   "source": [
    "# Специфицируем метод нормировки\n",
    "scaler = StandardScaler(with_mean=True, with_std=True)\n",
    "# scaler = MinMaxScaler()\n",
    "# scaler = RobustScaler()\n",
    "# scaler = MaxAbsScaler()\n",
    "\n",
    "X_norm = scaler.fit_transform(X_tr)"
   ]
  },
  {
   "cell_type": "code",
   "execution_count": null,
   "metadata": {},
   "outputs": [],
   "source": [
    "max_n_clusters = 10\n",
    "\n",
    "n_clusters = []\n",
    "metric_silhouette = []\n",
    "metric_ch = []\n",
    "metric_db = []\n",
    "\n",
    "for n in range(2, max_n_clusters+1):\n",
    "    cluster = KMeans(n_clusters=n, n_init='auto', random_state=2)\n",
    "    cluster.fit(X_norm)\n",
    "    n_clusters.append(n)\n",
    "    metric_silhouette.append(silhouette_score(X_norm, cluster.labels_))\n",
    "    metric_ch.append(calinski_harabasz_score(X_norm, cluster.labels_))\n",
    "    metric_db.append(davies_bouldin_score(X_norm, cluster.labels_))\n",
    "# cluster_metrics = pd.DataFrame({'n_clusters': n_clusters, 'Silhouette':metric_silhouette, 'Calinski-Harabasz':metric_ch, 'Davies-Bouldin':metric_db })\n",
    "cluster_metrics = pd.DataFrame({'Silhouette':metric_silhouette, 'Calinski-Harabasz':metric_ch, 'Davies-Bouldin':metric_db })\n",
    "cluster_metrics.index = n_clusters\n",
    "\n",
    "cluster_metrics.round(3)"
   ]
  },
  {
   "cell_type": "code",
   "execution_count": null,
   "metadata": {},
   "outputs": [],
   "source": [
    "print('Silhouette:', n_clusters[cluster_metrics['Silhouette'].argmax()])\n",
    "print('Calinski-Harabasz:', n_clusters[cluster_metrics['Calinski-Harabasz'].argmax()])\n",
    "print('Davies-Bouldin:', n_clusters[cluster_metrics['Davies-Bouldin'].argmin()])"
   ]
  },
  {
   "cell_type": "code",
   "execution_count": null,
   "metadata": {},
   "outputs": [],
   "source": [
    "max_n_clusters = 10\n",
    "\n",
    "n_clusters = []\n",
    "metric_silhouette = []\n",
    "metric_ch = []\n",
    "metric_db = []\n",
    "\n",
    "for n in range(2, max_n_clusters+1):\n",
    "    cluster = AgglomerativeClustering(n_clusters=n, metric='euclidean')\n",
    "    cluster.fit(X_norm)\n",
    "    n_clusters.append(n)\n",
    "    metric_silhouette.append(silhouette_score(X_norm, cluster.labels_))\n",
    "    metric_ch.append(calinski_harabasz_score(X_norm, cluster.labels_))\n",
    "    metric_db.append(davies_bouldin_score(X_norm, cluster.labels_))\n",
    "# cluster_metrics = pd.DataFrame({'n_clusters': n_clusters, 'Silhouette':metric_silhouette, 'Calinski-Harabasz':metric_ch, 'Davies-Bouldin':metric_db })\n",
    "cluster_metrics = pd.DataFrame({'Silhouette':metric_silhouette, 'Calinski-Harabasz':metric_ch, 'Davies-Bouldin':metric_db })\n",
    "cluster_metrics.index = n_clusters\n",
    "\n",
    "cluster_metrics.round(3)"
   ]
  },
  {
   "cell_type": "code",
   "execution_count": null,
   "metadata": {},
   "outputs": [],
   "source": [
    "print('Silhouette:', n_clusters[cluster_metrics['Silhouette'].argmax()])\n",
    "print('Calinski-Harabasz:', n_clusters[cluster_metrics['Calinski-Harabasz'].argmax()])\n",
    "print('Davies-Bouldin:', n_clusters[cluster_metrics['Davies-Bouldin'].argmin()])"
   ]
  }
 ],
 "metadata": {
  "kernelspec": {
   "display_name": "base",
   "language": "python",
   "name": "python3"
  },
  "language_info": {
   "codemirror_mode": {
    "name": "ipython",
    "version": 3
   },
   "file_extension": ".py",
   "mimetype": "text/x-python",
   "name": "python",
   "nbconvert_exporter": "python",
   "pygments_lexer": "ipython3",
   "version": "3.12.8"
  }
 },
 "nbformat": 4,
 "nbformat_minor": 2
}
