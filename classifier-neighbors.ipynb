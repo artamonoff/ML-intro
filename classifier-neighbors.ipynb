{
 "cells": [
  {
   "cell_type": "markdown",
   "id": "1884b2d0",
   "metadata": {},
   "source": [
    "# Метод ближайших соседей (классификация)\n",
    "\n",
    "Используем реализацию классификатора на основе [ближайших соседей](https://scikit-learn.org/stable/modules/neighbors.html#nearest-neighbors-classification) в `sciki-learn`: [KNeighborsClassifier](https://scikit-learn.org/stable/modules/generated/sklearn.neighbors.KNeighborsClassifier.html#sklearn.neighbors.KNeighborsClassifier) и [RadiusNeighborsClassifier](https://scikit-learn.org/stable/modules/generated/sklearn.neighbors.RadiusNeighborsClassifier.html#sklearn.neighbors.RadiusNeighborsClassifier)"
   ]
  },
  {
   "cell_type": "code",
   "execution_count": null,
   "id": "37fa9e41-6253-43ec-83cd-237c03a66ccc",
   "metadata": {},
   "outputs": [],
   "source": [
    "import numpy as np\n",
    "import pandas as pd\n",
    "\n",
    "from sklearn.neighbors import KNeighborsClassifier, RadiusNeighborsClassifier\n",
    "from sklearn.model_selection import train_test_split\n",
    "# базовые метрики классификации\n",
    "from sklearn.metrics import accuracy_score, f1_score, auc, class_likelihood_ratios\n",
    "# ROC-curve, AUC\n",
    "from sklearn.metrics import roc_curve, roc_auc_score, RocCurveDisplay\n",
    "# Precision-recall\n",
    "from sklearn.metrics import precision_recall_curve, average_precision_score, PrecisionRecallDisplay\n",
    "\n",
    "import matplotlib.pyplot as plt\n",
    "\n",
    "# Не показывать FutureWarnings\n",
    "import warnings\n",
    "warnings.simplefilter(action='ignore', category=FutureWarning)"
   ]
  },
  {
   "cell_type": "markdown",
   "id": "90904ab0",
   "metadata": {},
   "source": [
    "## Импорт и подготовка данных"
   ]
  },
  {
   "cell_type": "code",
   "execution_count": null,
   "metadata": {},
   "outputs": [],
   "source": [
    "df = pd.read_csv('./datasets/loanapp.csv')\n",
    "df.shape"
   ]
  },
  {
   "cell_type": "code",
   "execution_count": null,
   "metadata": {},
   "outputs": [],
   "source": [
    "df = df.dropna()\n",
    "df.shape"
   ]
  },
  {
   "cell_type": "code",
   "execution_count": null,
   "id": "ed4ae0f7-979b-4b9e-8c05-51b522f7e1f7",
   "metadata": {},
   "outputs": [],
   "source": [
    "y = df['approve']\n",
    "X = df.drop(columns='approve')\n",
    "# Разобьём выборку на обучающую и тестовую 80:20\n",
    "X_train,X_test,y_train,y_test = train_test_split(X,y,test_size=0.2,random_state=0)"
   ]
  },
  {
   "cell_type": "markdown",
   "id": "9b27f9bc",
   "metadata": {},
   "source": [
    "## Инициализация и обучение модели "
   ]
  },
  {
   "cell_type": "code",
   "execution_count": null,
   "id": "f14569ac-a76c-4a20-9d26-3a9602d77825",
   "metadata": {},
   "outputs": [],
   "source": [
    "# инициализируем и обучим классификатор\n",
    "clf = KNeighborsClassifier(n_neighbors=5, weights='uniform')\n",
    "clf.fit(X_train, y_train)"
   ]
  },
  {
   "cell_type": "markdown",
   "id": "8d29c7c9",
   "metadata": {},
   "source": [
    "## Прогнозирование (на тестовой выборке)"
   ]
  },
  {
   "cell_type": "code",
   "execution_count": null,
   "metadata": {},
   "outputs": [],
   "source": [
    "# прогноз на тестовой выборке\n",
    "clf_knn.predict(X_test)"
   ]
  },
  {
   "cell_type": "code",
   "execution_count": null,
   "metadata": {},
   "outputs": [],
   "source": [
    "# прогноз вероятностей на тестовой выборке\n",
    "clf.predict_proba(X_test)"
   ]
  },
  {
   "cell_type": "code",
   "execution_count": null,
   "id": "1e8a764f-6c67-4a55-a771-49bb9641bc9c",
   "metadata": {},
   "outputs": [],
   "source": [
    "# clf_rad = RadiusNeighborsClassifier(radius=10000.0, weights='uniform')\n",
    "# clf_rad.fit(X_train, y_train)"
   ]
  },
  {
   "cell_type": "code",
   "execution_count": null,
   "metadata": {},
   "outputs": [],
   "source": [
    "# clf_rad.predict_proba(X_test)"
   ]
  },
  {
   "cell_type": "markdown",
   "id": "2844fdcb",
   "metadata": {},
   "source": [
    "## Метрики качестве прогнозов на тестовой выборке"
   ]
  },
  {
   "cell_type": "code",
   "execution_count": null,
   "id": "d67977d7",
   "metadata": {},
   "outputs": [],
   "source": [
    "# доля правильных прогнозов на тестовой выборке\n",
    "clf.score(X_test, y_test)"
   ]
  },
  {
   "cell_type": "code",
   "execution_count": null,
   "id": "3450a00a",
   "metadata": {},
   "outputs": [],
   "source": [
    "# альтернативно: метод accuracy_score\n",
    "y_pred = clf.predict(X_test)\n",
    "accuracy_score(y_test, y_pred)"
   ]
  },
  {
   "cell_type": "markdown",
   "id": "7b13654d",
   "metadata": {},
   "source": [
    "Метрика \n",
    "\n",
    "$$\n",
    "\tF1=\\frac{TP}{2TP+FP+FN}\n",
    "$$"
   ]
  },
  {
   "cell_type": "code",
   "execution_count": null,
   "id": "c5d1f022",
   "metadata": {},
   "outputs": [],
   "source": [
    "f1_score(y_test, y_pred)"
   ]
  },
  {
   "cell_type": "markdown",
   "id": "4fe0f712",
   "metadata": {},
   "source": [
    "Метрика AUC-ROC"
   ]
  },
  {
   "cell_type": "code",
   "execution_count": null,
   "id": "2ced0c73",
   "metadata": {},
   "outputs": [],
   "source": [
    "y_pred_prob = clf.predict_proba(X_test)[:,1]\n",
    "fpr, tpr, _ = roc_curve (y_test, y_pred_prob)\n",
    "\n",
    "roc_auc_score (y_test, y_pred_prob)"
   ]
  },
  {
   "cell_type": "markdown",
   "id": "43e652ba",
   "metadata": {},
   "source": [
    "ROC-кривая и мера AUC"
   ]
  },
  {
   "cell_type": "code",
   "execution_count": null,
   "id": "e4d8947e",
   "metadata": {},
   "outputs": [],
   "source": [
    "RocCurveDisplay.from_estimator(clf, X_test, y_test)\n",
    "plt.show()"
   ]
  },
  {
   "cell_type": "code",
   "execution_count": null,
   "id": "f3800249",
   "metadata": {},
   "outputs": [],
   "source": [
    "# метрика AUC-PR\n",
    "y_pred_prob = clf.predict_proba(X_test)[:,1]\n",
    "precision, recall, thresholds = precision_recall_curve(y_test, y_pred_prob)\n",
    "auc(recall, precision)"
   ]
  },
  {
   "cell_type": "code",
   "execution_count": null,
   "id": "6963c6a4",
   "metadata": {},
   "outputs": [],
   "source": [
    "y_pred_prob = clf.predict_proba(X_test)[:,1]\n",
    "average_precision_score(y_test, y_pred_prob)"
   ]
  },
  {
   "cell_type": "markdown",
   "id": "3745f029",
   "metadata": {},
   "source": [
    "Кривая Precision-Recall"
   ]
  },
  {
   "cell_type": "code",
   "execution_count": null,
   "id": "1d4ebbd3",
   "metadata": {},
   "outputs": [],
   "source": [
    "PrecisionRecallDisplay.from_estimator(clf, X_test, y_test)\n",
    "plt.show()"
   ]
  },
  {
   "cell_type": "markdown",
   "id": "da39c084",
   "metadata": {},
   "source": [
    "## Сравнение нескольких классификаторов"
   ]
  },
  {
   "cell_type": "code",
   "execution_count": null,
   "metadata": {},
   "outputs": [],
   "source": [
    "# Другой классификатор\n",
    "clf2 = KNeighborsClassifier(n_neighbors=3, weights='uniform')\n",
    "clf2.fit(X_train, y_train)"
   ]
  },
  {
   "cell_type": "code",
   "execution_count": null,
   "id": "59875af7",
   "metadata": {},
   "outputs": [],
   "source": [
    "ax = plt.subplot()\n",
    "RocCurveDisplay.from_estimator(clf, X_test, y_test, ax=ax, name='k=5')\n",
    "RocCurveDisplay.from_estimator(clf2, X_test, y_test, ax=ax, name='k=3')\n",
    "\n",
    "plt.show()"
   ]
  },
  {
   "cell_type": "code",
   "execution_count": null,
   "id": "23608bec",
   "metadata": {},
   "outputs": [],
   "source": [
    "ax = plt.subplot()\n",
    "PrecisionRecallDisplay.from_estimator(clf, X_test, y_test, ax=ax, name='k=5')\n",
    "PrecisionRecallDisplay.from_estimator(clf2, X_test, y_test, ax=ax, name='k=3')\n",
    "\n",
    "plt.show()"
   ]
  },
  {
   "cell_type": "code",
   "execution_count": null,
   "id": "98fdeb8a-fe72-4f64-88ad-260f3cabe211",
   "metadata": {},
   "outputs": [],
   "source": [
    "# непосредственно нап=рисуем ROC-кривую с AUC-ROC\n",
    "y_pred_prob = clf.predict_proba(X_test)[:,1]\n",
    "fpr, tpr, _ = roc_curve (y_test, y_pred_prob)\n",
    "\n",
    "auc_roc = roc_auc_score (y_test, y_pred_prob)\n",
    "\n",
    "plt.plot (fpr,tpr,label=\"kNN1 AUC= \"+str(round(auc_roc, 3)))\n",
    "\n",
    "y_pred_prob = clf2.predict_proba(X_test)[:,1]\n",
    "fpr, tpr, _ = roc_curve (y_test, y_pred_prob)\n",
    "\n",
    "auc_roc = roc_auc_score (y_test, y_pred_prob)\n",
    "\n",
    "plt.plot (fpr,tpr,label=\"kNN2 AUC= \"+str(round(auc_roc, 3)))\n",
    "\n",
    "plt.ylabel('True Positive Rate')\n",
    "plt.xlabel('False Positive Rate')\n",
    "plt.legend(loc=4)\n",
    "plt.show()"
   ]
  },
  {
   "cell_type": "code",
   "execution_count": null,
   "id": "4e79f2da",
   "metadata": {},
   "outputs": [],
   "source": [
    "# непосредственно нап=рисуем кривую Precision-Recall с AUC-PR\n",
    "y_pred_prob = clf.predict_proba(X_test)[:,1]\n",
    "precision, recall, _ = precision_recall_curve (y_test, y_pred_prob)\n",
    "\n",
    "auc_pr = auc(recall, precision)\n",
    "\n",
    "plt.plot (recall,precision,label=\"kNN1 AUC= \"+str(round(auc_pr, 3)))\n",
    "\n",
    "y_pred_prob = clf2.predict_proba(X_test)[:,1]\n",
    "precision, recall, _ = precision_recall_curve (y_test, y_pred_prob)\n",
    "\n",
    "auc_pr = auc(recall, precision)\n",
    "\n",
    "plt.plot (recall,precision,label=\"kNN2 AUC= \"+str(round(auc_pr, 3)))\n",
    "\n",
    "plt.ylabel('Prcision')\n",
    "plt.xlabel('Recall')\n",
    "plt.legend(loc=3)\n",
    "plt.show()"
   ]
  }
 ],
 "metadata": {
  "kernelspec": {
   "display_name": "base",
   "language": "python",
   "name": "python3"
  },
  "language_info": {
   "codemirror_mode": {
    "name": "ipython",
    "version": 3
   },
   "file_extension": ".py",
   "mimetype": "text/x-python",
   "name": "python",
   "nbconvert_exporter": "python",
   "pygments_lexer": "ipython3",
   "version": "3.12.7"
  }
 },
 "nbformat": 4,
 "nbformat_minor": 5
}
