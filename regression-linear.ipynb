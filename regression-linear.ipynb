{
 "cells": [
  {
   "cell_type": "markdown",
   "id": "bcfd1073-946f-4c20-92ca-709448a1f4b2",
   "metadata": {},
   "source": [
    "# Регрессия: Линейная, Ridge, LASSO"
   ]
  },
  {
   "cell_type": "code",
   "execution_count": null,
   "id": "a4b423fd-34cc-4302-a3b4-3534db20514e",
   "metadata": {},
   "outputs": [],
   "source": [
    "import numpy as np\n",
    "import pandas as pd\n",
    "\n",
    "from sklearn.linear_model import LinearRegression, Ridge, Lasso\n",
    "from sklearn.model_selection import train_test_split\n",
    "from sklearn.metrics import r2_score, mean_squared_error, root_mean_squared_error, mean_absolute_error, mean_absolute_percentage_error # метрики подгонки\n",
    "from sklearn.metrics import mean_squared_log_error, median_absolute_error, explained_variance_score # метрики подгонки\n",
    "\n",
    "# Не показывать Warning\n",
    "import warnings\n",
    "warnings.simplefilter(action='ignore', category=Warning)"
   ]
  },
  {
   "cell_type": "markdown",
   "id": "ce5f22de-f107-45a3-b1a2-0ed26be57eb4",
   "metadata": {},
   "source": [
    "## Данные"
   ]
  },
  {
   "cell_type": "code",
   "execution_count": null,
   "id": "3b6ac49c-4b49-4ca7-a0c4-180073205922",
   "metadata": {},
   "outputs": [],
   "source": [
    "# загрузим данные\n",
    "df = pd.read_csv('./datasets/sleep75.csv')"
   ]
  },
  {
   "cell_type": "code",
   "execution_count": null,
   "id": "6c6a2fc6-cf8b-48ee-983c-5d51b5c21c26",
   "metadata": {},
   "outputs": [],
   "source": [
    "y = df['sleep']\n",
    "X = df[['totwrk', 'age', 'educ', 'male', 'south', 'smsa']]\n",
    "# Разобьём выборку на обучающую и тестовую 80:20\n",
    "X_train,X_test,y_train,y_test = train_test_split(X,y,test_size=0.2,random_state=0)"
   ]
  },
  {
   "cell_type": "markdown",
   "id": "45f420e1-17cf-40d4-a0da-8430ed87d25c",
   "metadata": {},
   "source": [
    "## Спецификация и подгонка моделей\n",
    "\n",
    "Линейная регрессия"
   ]
  },
  {
   "cell_type": "code",
   "execution_count": null,
   "id": "8744db9b-d5e4-4faa-9c56-6aa358fc7a71",
   "metadata": {},
   "outputs": [],
   "source": [
    "rgr_lin = LinearRegression()\n",
    "rgr_lin.fit(X_train, y_train)"
   ]
  },
  {
   "cell_type": "code",
   "execution_count": null,
   "id": "8ea54b9d",
   "metadata": {},
   "outputs": [],
   "source": [
    "# коэффициенты регрессии\n",
    "rgr_lin.coef_, rgr_lin.intercept_"
   ]
  },
  {
   "cell_type": "markdown",
   "id": "6332616a",
   "metadata": {},
   "source": [
    "Ridge-регрессия"
   ]
  },
  {
   "cell_type": "code",
   "execution_count": null,
   "id": "e8af60d8-6874-4241-b0f7-146ad618171c",
   "metadata": {},
   "outputs": [],
   "source": [
    "rgr_ridge = Ridge(alpha=1.0)\n",
    "rgr_ridge.fit(X_train, y_train)"
   ]
  },
  {
   "cell_type": "code",
   "execution_count": null,
   "id": "63f8d0a5",
   "metadata": {},
   "outputs": [],
   "source": [
    "# коэффициенты регрессии\n",
    "rgr_lin.coef_, rgr_lin.intercept_"
   ]
  },
  {
   "cell_type": "markdown",
   "id": "9657cf55",
   "metadata": {},
   "source": [
    "LASSO-регрессия"
   ]
  },
  {
   "cell_type": "code",
   "execution_count": null,
   "id": "697ad38e",
   "metadata": {},
   "outputs": [],
   "source": [
    "rgr_lasso = Lasso(alpha=1.0)\n",
    "rgr_lasso.fit(X_train, y_train)"
   ]
  },
  {
   "cell_type": "code",
   "execution_count": null,
   "id": "d4776edd",
   "metadata": {},
   "outputs": [],
   "source": [
    "# коэффициенты регрессии\n",
    "rgr_lin.coef_, rgr_lin.intercept_"
   ]
  },
  {
   "cell_type": "markdown",
   "id": "db2cf637-11d7-4e9b-955f-383e2252f642",
   "metadata": {},
   "source": [
    "## Метрики подгонки"
   ]
  },
  {
   "cell_type": "code",
   "execution_count": null,
   "id": "3744ae2b-7671-4a5b-9f67-407c90e1e922",
   "metadata": {},
   "outputs": [],
   "source": [
    "# R^2 на тестовой выборке\n",
    "print('Linear: %.3f, Ridge: %.3f, LASSO: %.3f' % (rgr_lin.score(X_test, y_test), rgr_ridge.score(X_test, y_test), rgr_lasso.score(X_test, y_test) ))"
   ]
  },
  {
   "cell_type": "markdown",
   "id": "0a8f8a2a-bb59-41dd-8e1c-ae4d4483c677",
   "metadata": {},
   "source": [
    "Базовые метрики"
   ]
  },
  {
   "cell_type": "code",
   "execution_count": null,
   "id": "1a837a1c",
   "metadata": {},
   "outputs": [],
   "source": [
    "y_pred_lin,  y_pred_ridge, y_pred_lasso = rgr_lin.predict(X_test), rgr_ridge.predict(X_test), rgr_lasso.predict(X_test)"
   ]
  },
  {
   "cell_type": "code",
   "execution_count": null,
   "id": "68fe6f53",
   "metadata": {},
   "outputs": [],
   "source": [
    "# R^2\n",
    "print('R2 Linear: %.3f, Ridge: %.3f, LASSO: %.3f' % (r2_score(y_test, y_pred_lin), r2_score(y_test, y_pred_ridge), r2_score(y_test, y_pred_lasso)))"
   ]
  },
  {
   "cell_type": "code",
   "execution_count": null,
   "id": "cde6b575",
   "metadata": {},
   "outputs": [],
   "source": [
    "# MSE/ RMSE\n",
    "print('MSE Linear: %.3f, Ridge: %.3f, LASSO: %.3f' % (mean_squared_error(y_test, y_pred_lin), mean_squared_error(y_test, y_pred_ridge),  mean_squared_error(y_test, y_pred_lasso)))\n",
    "\n",
    "print('RMSE Linear: %.3f, Ridge: %.3f, LASSO: %.3f' % (root_mean_squared_error(y_test, y_pred_lin), root_mean_squared_error(y_test, y_pred_ridge),  root_mean_squared_error(y_test, y_pred_lasso)))"
   ]
  },
  {
   "cell_type": "code",
   "execution_count": null,
   "id": "cb93efde",
   "metadata": {},
   "outputs": [],
   "source": [
    "# MAE\n",
    "print('MAE Linear: %.3f, Ridge: %.3f, LASSO: %.3f' % (mean_absolute_error(y_test, y_pred_lin), mean_absolute_error(y_test, y_pred_ridge), mean_absolute_error(y_test, y_pred_lasso)))"
   ]
  },
  {
   "cell_type": "code",
   "execution_count": null,
   "id": "66d5e939",
   "metadata": {},
   "outputs": [],
   "source": [
    "# MAPE\n",
    "print('MAPE Linear: %.3f, Ridge: %.3f, LASSO: %.3f' % (mean_absolute_percentage_error(y_test, y_pred_lin), mean_absolute_percentage_error(y_test, y_pred_ridge), mean_absolute_percentage_error(y_test, y_pred_lasso)))"
   ]
  },
  {
   "cell_type": "code",
   "execution_count": null,
   "id": "f6555be7",
   "metadata": {},
   "outputs": [],
   "source": [
    "# Mean squared logarithmic error regression loss.\n",
    "print('Mean squared logarithmic error: Linear: %.3f, Ridge: %.3f, LASSO: %.3f' % (mean_squared_log_error(y_test, y_pred_lin), mean_squared_log_error(y_test, y_pred_ridge), mean_squared_log_error(y_test, y_pred_lasso)))"
   ]
  }
 ],
 "metadata": {
  "kernelspec": {
   "display_name": "base",
   "language": "python",
   "name": "python3"
  },
  "language_info": {
   "codemirror_mode": {
    "name": "ipython",
    "version": 3
   },
   "file_extension": ".py",
   "mimetype": "text/x-python",
   "name": "python",
   "nbconvert_exporter": "python",
   "pygments_lexer": "ipython3",
   "version": "3.12.7"
  }
 },
 "nbformat": 4,
 "nbformat_minor": 5
}
