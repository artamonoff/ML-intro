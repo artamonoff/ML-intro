{
 "cells": [
  {
   "cell_type": "markdown",
   "id": "b341f108-4e06-4262-892a-da4673368a00",
   "metadata": {},
   "source": [
    "# Кластеризация методом k-средних\n",
    "Используем реализацию [k-средних](https://scikit-learn.org/stable/modules/clustering.html#k-means) в [scikit-learn](https://scikit-learn.org/stable/index.html) (метод [KMeans](https://scikit-learn.org/stable/modules/generated/sklearn.cluster.KMeans.html#sklearn.cluster.KMeans))"
   ]
  },
  {
   "cell_type": "code",
   "execution_count": null,
   "id": "1732753c-d054-4c7b-8cad-02d8fb28d54c",
   "metadata": {
    "tags": []
   },
   "outputs": [],
   "source": [
    "import pandas as pd\n",
    "import numpy as np\n",
    "\n",
    "from sklearn.cluster import KMeans\n",
    "from sklearn.metrics import silhouette_score, calinski_harabasz_score, davies_bouldin_score\n",
    "from sklearn.preprocessing import StandardScaler  # z-нормировка\n",
    "# from sklearn.preprocessing import MinMaxScaler, RobustScaler # другие способы нормировки\n",
    "\n",
    "import seaborn as sns # 2D-визуалиазция\n",
    "import plotly.express as px # 3D-визуалиазация\n",
    "\n",
    "# Не показывать Warning\n",
    "import warnings\n",
    "warnings.simplefilter(action='ignore', category=Warning)"
   ]
  },
  {
   "cell_type": "code",
   "execution_count": null,
   "id": "8fe7b717-f586-46fb-961d-0c94bf04e62d",
   "metadata": {
    "tags": []
   },
   "outputs": [],
   "source": [
    "df = pd.read_csv('./datasets/Countries.csv', sep=';', decimal=',')\n",
    "# Удалим нечисловые переменные\n",
    "X = df.drop(columns=['Страны'])\n",
    "X"
   ]
  },
  {
   "cell_type": "markdown",
   "id": "c0d3168b-abdc-4791-bb53-01fc11a78fc3",
   "metadata": {},
   "source": [
    "## Нормирование данных"
   ]
  },
  {
   "cell_type": "code",
   "execution_count": null,
   "id": "0021bf99-8c5c-471b-aea8-f1af0dc5d26f",
   "metadata": {
    "tags": []
   },
   "outputs": [],
   "source": [
    "# Специфицируем метод нормировки\n",
    "scaler = StandardScaler(with_mean=True, with_std=True)\n",
    "# scaler = MinMaxScaler()\n",
    "# scaler = RobustScaler()\n",
    "\n",
    "X_norm = scaler.fit_transform(X)"
   ]
  },
  {
   "cell_type": "markdown",
   "id": "15639525-bda3-4172-9888-4ce50f78aaa8",
   "metadata": {},
   "source": [
    "## Кластеризация"
   ]
  },
  {
   "cell_type": "code",
   "execution_count": null,
   "id": "0b9cb4a4-9db8-4303-8b54-825fe5c6776c",
   "metadata": {
    "tags": []
   },
   "outputs": [],
   "source": [
    "# Специфицируем процедуру\n",
    "cluster = KMeans(n_clusters=3, init='random', random_state=2)\n",
    "# проводим кластеризацию\n",
    "cl = cluster.fit_predict(X_norm)\n",
    "\n",
    "print(cl)"
   ]
  },
  {
   "cell_type": "markdown",
   "id": "3e97053e-d800-4bc2-9562-fbf8805d5eed",
   "metadata": {},
   "source": [
    "## Метрики кластеризации\n",
    "[Основные метрики](https://scikit-learn.org/stable/modules/clustering.html#clustering-performance-evaluation)\n",
    "| Метрика |Метод |Критерий|\n",
    "|-|-|-|\n",
    "|Silhouette Coefficient|silhouette_score| max|\n",
    "|Calinski-Harabasz|calinski_harabasz_score|max|\n",
    "|Davies-Bouldin|davies_bouldin_score|min|"
   ]
  },
  {
   "cell_type": "code",
   "execution_count": null,
   "id": "6b819d09-2838-4c1c-8fcf-3446fbd57171",
   "metadata": {
    "tags": []
   },
   "outputs": [],
   "source": [
    "print('Silhouette Score=', silhouette_score(X_norm, cl))\n",
    "print('Calinski-Harabasz Score=', calinski_harabasz_score(X_norm, cl))\n",
    "print('Davies-Bouldin Score=', davies_bouldin_score(X_norm, cl))"
   ]
  },
  {
   "cell_type": "markdown",
   "id": "45878910-92a4-410a-8f70-19a02817927e",
   "metadata": {},
   "source": [
    "## Визуализация\n",
    "используем библиотеки [seaborn](https://seaborn.pydata.org/index.html) и [plotly](https://plotly.com/python/)"
   ]
  },
  {
   "cell_type": "code",
   "execution_count": null,
   "id": "5f1909f1-e722-49d3-ae49-bc8fa0d9956c",
   "metadata": {
    "tags": []
   },
   "outputs": [],
   "source": [
    "X['Cluster'] = cl\n",
    "X.head()"
   ]
  },
  {
   "cell_type": "code",
   "execution_count": null,
   "id": "d21954b2-9cb2-4382-9845-b0237c9aef79",
   "metadata": {
    "tags": []
   },
   "outputs": [],
   "source": [
    "sns.scatterplot(data=X, x='ИРЧП', y='Население', hue='Cluster')"
   ]
  },
  {
   "cell_type": "code",
   "execution_count": null,
   "id": "2dfc3e2a-2ccc-41d9-bf99-4866ed18fece",
   "metadata": {
    "tags": []
   },
   "outputs": [],
   "source": [
    "sns.scatterplot(data=X, x='ИРЧП', y='ВВП д/н', hue='Cluster')"
   ]
  },
  {
   "cell_type": "code",
   "execution_count": null,
   "id": "ff2ce78d-df79-4ec9-b51e-650d14be81cf",
   "metadata": {
    "tags": []
   },
   "outputs": [],
   "source": [
    "fig = px.scatter_3d(X, x='ИРЧП', y='ВВП д/н', z='Безработица (%)', color='Cluster')\n",
    "fig.update_traces(marker_size=3)\n",
    "fig.show()"
   ]
  }
 ],
 "metadata": {
  "kernelspec": {
   "display_name": "Python 3 (ipykernel)",
   "language": "python",
   "name": "python3"
  },
  "language_info": {
   "codemirror_mode": {
    "name": "ipython",
    "version": 3
   },
   "file_extension": ".py",
   "mimetype": "text/x-python",
   "name": "python",
   "nbconvert_exporter": "python",
   "pygments_lexer": "ipython3",
   "version": "3.12.5"
  }
 },
 "nbformat": 4,
 "nbformat_minor": 5
}
