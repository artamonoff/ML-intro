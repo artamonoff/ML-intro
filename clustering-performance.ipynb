{
 "cells": [
  {
   "cell_type": "markdown",
   "id": "4cc74d2e-f7e9-439e-925c-33c4bb9289b1",
   "metadata": {},
   "source": [
    "# Выбор числа кластеров"
   ]
  },
  {
   "cell_type": "code",
   "execution_count": null,
   "id": "7cd4afab-2016-4321-b47b-3ba04c83bba9",
   "metadata": {
    "tags": []
   },
   "outputs": [],
   "source": [
    "import pandas as pd\n",
    "import numpy as np\n",
    "\n",
    "from sklearn.cluster import KMeans, AgglomerativeClustering\n",
    "from sklearn.metrics import silhouette_score, calinski_harabasz_score, davies_bouldin_score\n",
    "\n",
    "from sklearn.preprocessing import StandardScaler  # z-нормировка\n",
    "# from sklearn.preprocessing import MinMaxScaler, RobustScaler # другие способы нормировки\n",
    "\n",
    "# Не показывать Warning\n",
    "import warnings\n",
    "warnings.simplefilter(action='ignore', category=Warning)"
   ]
  },
  {
   "cell_type": "code",
   "execution_count": null,
   "id": "e3a18aa4-2581-4db5-93c7-570278adca5d",
   "metadata": {
    "tags": []
   },
   "outputs": [],
   "source": [
    "df = pd.read_csv('./datasets/Countries.csv', sep=';', decimal=',')\n",
    "# Удалим нечисловые переменные\n",
    "X = df.drop(columns=['Страны'])\n",
    "\n",
    "# Специфицируем метод нормировки\n",
    "scaler = StandardScaler(with_mean=True, with_std=True)\n",
    "# scaler = MinMaxScaler()\n",
    "# scaler = RobustScaler()\n",
    "\n",
    "X_norm = scaler.fit_transform(X)"
   ]
  },
  {
   "cell_type": "markdown",
   "id": "2faf10ec-7ba5-4d0c-9d7f-e20f09acd627",
   "metadata": {},
   "source": [
    "[Основные метрики](https://scikit-learn.org/stable/modules/clustering.html#clustering-performance-evaluation)\n",
    "| Метрика |Метод |Критерий|\n",
    "|-|-|-|\n",
    "|Silhouette Coefficient|silhouette_score| max|\n",
    "|Calinski-Harabasz|calinski_harabasz_score|max|\n",
    "|Davies-Bouldin|davies_bouldin_score|min|\n",
    "## Метод  k-средних"
   ]
  },
  {
   "cell_type": "code",
   "execution_count": null,
   "id": "e0eada24-e05c-4f7b-adb7-c66a35865b1a",
   "metadata": {
    "tags": []
   },
   "outputs": [],
   "source": [
    "max_n_clusters = 10\n",
    "\n",
    "n_clusters = []\n",
    "metric_silhouette = []\n",
    "metric_ch = []\n",
    "metric_db = []\n",
    "\n",
    "for n in range(2, max_n_clusters+1):\n",
    "    cluster = KMeans(n_clusters=n, n_init='auto', random_state=2)\n",
    "    cluster.fit(X_norm)\n",
    "    n_clusters.append(n)\n",
    "    metric_silhouette.append(silhouette_score(X_norm, cluster.labels_))\n",
    "    metric_ch.append(calinski_harabasz_score(X_norm, cluster.labels_))\n",
    "    metric_db.append(davies_bouldin_score(X_norm, cluster.labels_))\n",
    "# cluster_metrics = pd.DataFrame({'n_clusters': n_clusters, 'Silhouette':metric_silhouette, 'Calinski-Harabasz':metric_ch, 'Davies-Bouldin':metric_db })\n",
    "cluster_metrics = pd.DataFrame({'Silhouette':metric_silhouette, 'Calinski-Harabasz':metric_ch, 'Davies-Bouldin':metric_db })\n",
    "cluster_metrics.index = n_clusters\n",
    "\n",
    "cluster_metrics.round(3)"
   ]
  },
  {
   "cell_type": "code",
   "execution_count": null,
   "id": "9c53ac6a-029d-45e3-b924-af4c60f00679",
   "metadata": {
    "tags": []
   },
   "outputs": [],
   "source": [
    "cluster_metrics.plot(subplots=True)"
   ]
  },
  {
   "cell_type": "markdown",
   "id": "b535b6e5-c638-48bb-b31a-98b4c5836422",
   "metadata": {},
   "source": [
    "## Иерархическая"
   ]
  },
  {
   "cell_type": "code",
   "execution_count": null,
   "id": "671bcee5-c816-4e44-ab1d-a6bdc643f987",
   "metadata": {
    "tags": []
   },
   "outputs": [],
   "source": [
    "max_n_clusters = 10\n",
    "\n",
    "n_clusters = []\n",
    "metric_silhouette = []\n",
    "metric_ch = []\n",
    "metric_db = []\n",
    "\n",
    "for n in range(2, max_n_clusters+1):\n",
    "    cluster = AgglomerativeClustering(n_clusters=n, metric='euclidean', linkage='ward', compute_full_tree=True, distance_threshold=None)\n",
    "    cluster.fit(X_norm)\n",
    "    n_clusters.append(n)\n",
    "    metric_silhouette.append(silhouette_score(X_norm, cluster.labels_))\n",
    "    metric_ch.append(calinski_harabasz_score(X_norm, cluster.labels_))\n",
    "    metric_db.append(davies_bouldin_score(X_norm, cluster.labels_))\n",
    "# cluster_metrics = pd.DataFrame({'n_clusters': n_clusters, 'Silhouette':metric_silhouette, 'Calinski-Harabasz':metric_ch, 'Davies-Bouldin':metric_db })\n",
    "cluster_metrics = pd.DataFrame({'Silhouette':metric_silhouette, 'Calinski-Harabasz':metric_ch, 'Davies-Bouldin':metric_db })\n",
    "cluster_metrics.index = n_clusters\n",
    "\n",
    "cluster_metrics.round(3)"
   ]
  },
  {
   "cell_type": "code",
   "execution_count": null,
   "id": "ee807d80-8383-4eff-88bb-69c3bafbbe32",
   "metadata": {
    "tags": []
   },
   "outputs": [],
   "source": [
    "cluster_metrics.plot(subplots=True)"
   ]
  }
 ],
 "metadata": {
  "kernelspec": {
   "display_name": "Python 3 (ipykernel)",
   "language": "python",
   "name": "python3"
  },
  "language_info": {
   "codemirror_mode": {
    "name": "ipython",
    "version": 3
   },
   "file_extension": ".py",
   "mimetype": "text/x-python",
   "name": "python",
   "nbconvert_exporter": "python",
   "pygments_lexer": "ipython3",
   "version": "3.12.5"
  }
 },
 "nbformat": 4,
 "nbformat_minor": 5
}
