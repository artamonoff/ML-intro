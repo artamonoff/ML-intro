{
 "cells": [
  {
   "cell_type": "code",
   "execution_count": null,
   "metadata": {
    "execution": {
     "iopub.execute_input": "2023-12-15T17:05:07.410832Z",
     "iopub.status.busy": "2023-12-15T17:05:07.410832Z",
     "iopub.status.idle": "2023-12-15T17:05:08.604708Z",
     "shell.execute_reply": "2023-12-15T17:05:08.604708Z",
     "shell.execute_reply.started": "2023-12-15T17:05:07.410832Z"
    }
   },
   "outputs": [],
   "source": [
    "import numpy as np\n",
    "import pandas as pd\n",
    "\n",
    "from sklearn.ensemble import RandomForestClassifier\n",
    "from sklearn.tree import DecisionTreeClassifier\n",
    "from sklearn.model_selection import LearningCurveDisplay\n",
    "\n",
    "import matplotlib.pyplot as plt\n",
    "\n",
    "# Не показывать Warning\n",
    "import warnings\n",
    "warnings.simplefilter(action='ignore', category=Warning)"
   ]
  },
  {
   "cell_type": "code",
   "execution_count": null,
   "metadata": {
    "execution": {
     "iopub.execute_input": "2023-12-15T17:05:08.606712Z",
     "iopub.status.busy": "2023-12-15T17:05:08.605710Z",
     "iopub.status.idle": "2023-12-15T17:05:08.679404Z",
     "shell.execute_reply": "2023-12-15T17:05:08.679404Z",
     "shell.execute_reply.started": "2023-12-15T17:05:08.606712Z"
    }
   },
   "outputs": [],
   "source": [
    "df = pd.read_csv('./datasets/cholesterol_prediction.csv',sep=\";\")\n",
    "df.head()"
   ]
  },
  {
   "cell_type": "code",
   "execution_count": null,
   "metadata": {
    "execution": {
     "iopub.execute_input": "2023-12-15T17:05:08.680408Z",
     "iopub.status.busy": "2023-12-15T17:05:08.680408Z",
     "iopub.status.idle": "2023-12-15T17:05:08.687190Z",
     "shell.execute_reply": "2023-12-15T17:05:08.687190Z",
     "shell.execute_reply.started": "2023-12-15T17:05:08.680408Z"
    }
   },
   "outputs": [],
   "source": [
    "y = df['cardio']\n",
    "X = df.drop(columns=['id','cardio'])"
   ]
  },
  {
   "cell_type": "code",
   "execution_count": null,
   "metadata": {
    "execution": {
     "iopub.execute_input": "2023-12-15T17:05:08.689198Z",
     "iopub.status.busy": "2023-12-15T17:05:08.689198Z",
     "iopub.status.idle": "2023-12-15T17:05:08.709797Z",
     "shell.execute_reply": "2023-12-15T17:05:08.703790Z",
     "shell.execute_reply.started": "2023-12-15T17:05:08.689198Z"
    }
   },
   "outputs": [],
   "source": [
    "rf = RandomForestClassifier(n_estimators=100, criterion='gini', max_depth=None, random_state=42)\n",
    "\n",
    "train_size_range = np.array([0.1, 0.2, 0.5, 0.8, 0.9])\n",
    "\n",
    "LearningCurveDisplay.from_estimator(rf, X, y, train_sizes=train_size_range, scoring=\"accuracy\", random_state=2)\n",
    "\n",
    "plt.show()"
   ]
  },
  {
   "cell_type": "code",
   "execution_count": null,
   "metadata": {},
   "outputs": [],
   "source": [
    "tree = DecisionTreeClassifier(max_depth=None, random_state=2)\n",
    "\n",
    "train_size_range = np.array([0.1, 0.2, 0.5, 0.8, 0.9])\n",
    "\n",
    "LearningCurveDisplay.from_estimator(tree, X, y, train_sizes=train_size_range, scoring=\"accuracy\", random_state=2)\n",
    "\n",
    "plt.show()"
   ]
  }
 ],
 "metadata": {
  "kernelspec": {
   "display_name": "base",
   "language": "python",
   "name": "python3"
  },
  "language_info": {
   "codemirror_mode": {
    "name": "ipython",
    "version": 3
   },
   "file_extension": ".py",
   "mimetype": "text/x-python",
   "name": "python",
   "nbconvert_exporter": "python",
   "pygments_lexer": "ipython3",
   "version": "3.12.7"
  }
 },
 "nbformat": 4,
 "nbformat_minor": 4
}
