{
 "cells": [
  {
   "cell_type": "markdown",
   "id": "5df74901-de8f-404a-9711-fc7af733d523",
   "metadata": {},
   "source": [
    "# Bagging"
   ]
  },
  {
   "cell_type": "code",
   "execution_count": 1,
   "id": "2c62b892-beec-49ce-a59f-67c4c22b4d37",
   "metadata": {},
   "outputs": [],
   "source": [
    "import numpy as np\n",
    "import pandas as pd\n",
    "\n",
    "from sklearn.ensemble  import BaggingClassifier\n",
    "from sklearn.linear_model import LogisticRegression\n",
    "from sklearn.neighbors import KNeighborsClassifier\n",
    "from sklearn.tree import DecisionTreeClassifier\n",
    "from sklearn.svm import LinearSVC\n",
    "from sklearn.model_selection import train_test_split\n",
    "\n",
    "# Не показывать Warning\n",
    "import warnings\n",
    "warnings.simplefilter(action='ignore', category=Warning)"
   ]
  },
  {
   "cell_type": "code",
   "execution_count": 2,
   "id": "ebced815-4fff-4f28-b16e-793c023e0278",
   "metadata": {},
   "outputs": [],
   "source": [
    "df = pd.read_csv('./datasets/loanapp.csv')\n",
    "df = df.dropna()\n",
    "\n",
    "y = df['approve']\n",
    "X = df.drop(columns=['approve','reject', 'action'])\n",
    "# Разобьём выборку на обучающую и тестовую 80:20\n",
    "X_train,X_test,y_train,y_test = train_test_split(X,y,test_size=0.2,random_state=0)"
   ]
  },
  {
   "cell_type": "code",
   "execution_count": null,
   "id": "210309c8-c9b1-46d7-a7e4-bf8cb9e57ed5",
   "metadata": {},
   "outputs": [],
   "source": [
    "clf_logistic = LogisticRegression(penalty=None, random_state=0)\n",
    "clf_logistic.fit(X_train, y_train)\n",
    "\n",
    "clf_svc = LinearSVC()\n",
    "clf_svc.fit(X_train, y_train)\n",
    "\n",
    "clf_knn = KNeighborsClassifier(n_neighbors=5, weights='uniform')\n",
    "clf_knn.fit(X_train, y_train)\n",
    "\n",
    "clf_tree = DecisionTreeClassifier(random_state=0)\n",
    "clf_tree.fit(X_train, y_train)"
   ]
  },
  {
   "cell_type": "code",
   "execution_count": null,
   "id": "6a917d1c-34ec-41ca-bb47-efff736e4eb4",
   "metadata": {},
   "outputs": [],
   "source": [
    "clf_logistic_bagging = BaggingClassifier(estimator=LogisticRegression(penalty=None), n_estimators=10)\n",
    "clf_logistic_bagging.fit(X_train, y_train)"
   ]
  },
  {
   "cell_type": "code",
   "execution_count": null,
   "id": "3d9a3f22-336b-4350-9477-64c828acbdf8",
   "metadata": {},
   "outputs": [],
   "source": [
    "clf_svc_bagging = BaggingClassifier(estimator=LinearSVC(), n_estimators=10)\n",
    "clf_svc_bagging.fit(X_train, y_train)"
   ]
  },
  {
   "cell_type": "code",
   "execution_count": null,
   "id": "76f88bef-ccf3-4f92-871e-0c5087cb7df6",
   "metadata": {},
   "outputs": [],
   "source": [
    "clf_knn_bagging = BaggingClassifier(estimator=KNeighborsClassifier(n_neighbors=5, weights='uniform'), n_estimators=10)\n",
    "clf_knn_bagging.fit(X_train, y_train)"
   ]
  },
  {
   "cell_type": "code",
   "execution_count": null,
   "id": "dab9168d-cc7f-4166-a0ad-4e3c397a6ed7",
   "metadata": {},
   "outputs": [],
   "source": [
    "clf_tree_bagging = BaggingClassifier(estimator=DecisionTreeClassifier(random_state=0), n_estimators=10)\n",
    "clf_tree_bagging.fit(X_train, y_train)"
   ]
  },
  {
   "cell_type": "markdown",
   "id": "04671e5d-719c-4ccb-9b4c-f29ec3dd29c3",
   "metadata": {},
   "source": [
    "## Accuracy"
   ]
  },
  {
   "cell_type": "code",
   "execution_count": null,
   "id": "354c2ee2-29d4-4cfa-ae7b-f6fe21661921",
   "metadata": {},
   "outputs": [],
   "source": [
    "print( clf_logistic.score(X_test, y_test) )\n",
    "print( clf_logistic_bagging.score(X_test, y_test) )\n",
    "print( clf_svc.score(X_test, y_test) )\n",
    "print( clf_svc_bagging.score(X_test, y_test) )\n",
    "print( clf_knn.score(X_test, y_test) )\n",
    "print( clf_knn_bagging.score(X_test, y_test) )\n",
    "print( clf_tree.score(X_test, y_test) )\n",
    "print( clf_tree_bagging.score(X_test, y_test) )"
   ]
  }
 ],
 "metadata": {
  "kernelspec": {
   "display_name": "Python 3 (ipykernel)",
   "language": "python",
   "name": "python3"
  },
  "language_info": {
   "codemirror_mode": {
    "name": "ipython",
    "version": 3
   },
   "file_extension": ".py",
   "mimetype": "text/x-python",
   "name": "python",
   "nbconvert_exporter": "python",
   "pygments_lexer": "ipython3",
   "version": "3.12.4"
  }
 },
 "nbformat": 4,
 "nbformat_minor": 5
}
