{
 "cells": [
  {
   "cell_type": "markdown",
   "id": "1d3b3f19-c555-4e6a-8754-8b819aa4ecf8",
   "metadata": {},
   "source": [
    "# Кластеризация и PCA"
   ]
  },
  {
   "cell_type": "code",
   "execution_count": null,
   "id": "832b4e92-8747-453a-83d2-6ee51030382a",
   "metadata": {},
   "outputs": [],
   "source": [
    "import pandas as pd\n",
    "import numpy as np\n",
    "\n",
    "from sklearn.decomposition import PCA # Метод главных компонент\n",
    "from sklearn.cluster import AgglomerativeClustering, KMeans\n",
    "from sklearn.preprocessing import StandardScaler  # z-нормировка\n",
    "# from sklearn.preprocessing import MinMaxScaler, RobustScaler # другие способы нормировки\n",
    "\n",
    "# import seaborn as sns # 2D-визуализация\n",
    "import plotly.express as px # 3D-визуализация\n",
    "\n",
    "# import matplotlib.pyplot as plt\n",
    "\n",
    "# Не показывать Warning\n",
    "import warnings\n",
    "warnings.simplefilter(action='ignore', category=Warning)"
   ]
  },
  {
   "cell_type": "code",
   "execution_count": null,
   "id": "a5bed776-a886-44a4-a88b-ca671f262295",
   "metadata": {},
   "outputs": [],
   "source": [
    "df = pd.read_csv('./datasets/Countries.csv')\n",
    "# Удалим нечисловые переменные\n",
    "X = df.drop(columns=['Страны'])\n",
    "X.index = df['Страны']"
   ]
  },
  {
   "cell_type": "markdown",
   "id": "5860f376-6e71-43ed-9bcb-6afb7263c70f",
   "metadata": {},
   "source": [
    "## Нормирование данных"
   ]
  },
  {
   "cell_type": "code",
   "execution_count": null,
   "id": "de420b98-d6e2-41d2-a559-03ea966e2dce",
   "metadata": {},
   "outputs": [],
   "source": [
    "# Специфицируем метод нормировки\n",
    "scaler = StandardScaler(with_mean=True, with_std=True)\n",
    "# scaler = MinMaxScaler()\n",
    "# scaler = RobustScaler()\n",
    "\n",
    "X_norm = scaler.fit_transform(X)"
   ]
  },
  {
   "cell_type": "markdown",
   "id": "965a2246-2637-41e2-a9ac-c06859fab368",
   "metadata": {},
   "source": [
    "## Выделение главных компонент\n",
    "\n",
    "Выделим первые 4 главные компоненты"
   ]
  },
  {
   "cell_type": "code",
   "execution_count": null,
   "id": "91d2f87d-c096-445d-8d1d-c1f5d44580d4",
   "metadata": {},
   "outputs": [],
   "source": [
    "pc = PCA(n_components=4)\n",
    "\n",
    "X_pca = pc.fit_transform(X_norm)\n",
    "\n",
    "X_pca = pd.DataFrame(data=X_pca, columns = ['PC1', 'PC2', 'PC3', 'PC4'])"
   ]
  },
  {
   "cell_type": "code",
   "execution_count": null,
   "id": "dd5249a9-8bb6-40d9-b2b1-4a90b0ed8352",
   "metadata": {},
   "outputs": [],
   "source": [
    "# Специфицируем процедуру\n",
    "cluster = AgglomerativeClustering(n_clusters=3, metric='euclidean', linkage='ward', compute_full_tree=True)\n",
    "# проводим кластеризацию\n",
    "cluster.fit(X_pca)\n",
    "\n",
    "print(cluster.labels_)"
   ]
  },
  {
   "cell_type": "code",
   "execution_count": null,
   "id": "82cde9ad-39b8-4b79-bcf1-e65a3033515f",
   "metadata": {},
   "outputs": [],
   "source": [
    "X['Cluster'] = np.astype(cluster.labels_, str)\n",
    "X_pca['Cluster'] = np.astype(cluster.labels_, str)"
   ]
  },
  {
   "cell_type": "code",
   "execution_count": null,
   "id": "2beb2c17-c4e5-4f25-8073-0045cdeb1e75",
   "metadata": {},
   "outputs": [],
   "source": [
    "# sns.scatterplot(data=X, x='ИРЧП', y='Население', hue='Cluster')\n",
    "# plt.show()"
   ]
  },
  {
   "cell_type": "code",
   "execution_count": null,
   "id": "7d6a7f20-71f1-4a8a-a541-ccb1cb504821",
   "metadata": {},
   "outputs": [],
   "source": [
    "# sns.scatterplot(data=X_pca, x='PC1', y='PC2', hue='Cluster')\n",
    "# plt.show()"
   ]
  },
  {
   "cell_type": "code",
   "execution_count": null,
   "id": "9ab5fad7",
   "metadata": {},
   "outputs": [],
   "source": [
    "fig = px.scatter(X, x='ИРЧП', y='Население', color='Cluster', hover_name=X.index)\n",
    "# fig.update_traces(marker_size=6)\n",
    "fig.show()"
   ]
  },
  {
   "cell_type": "code",
   "execution_count": null,
   "id": "bee7f44b",
   "metadata": {},
   "outputs": [],
   "source": [
    "fig = px.scatter(X_pca, x='PC1', y='PC2', color='Cluster', hover_name=X.index)\n",
    "# fig.update_traces(marker_size=6)\n",
    "fig.show()"
   ]
  },
  {
   "cell_type": "code",
   "execution_count": null,
   "id": "9c834366",
   "metadata": {},
   "outputs": [],
   "source": [
    "fig = px.scatter_3d(X_pca, x='PC1', y='PC2', z='PC3', color='Cluster', hover_name=X.index)\n",
    "fig.update_traces(marker_size=4)\n",
    "fig.show()"
   ]
  }
 ],
 "metadata": {
  "kernelspec": {
   "display_name": "Python 3 (ipykernel)",
   "language": "python",
   "name": "python3"
  },
  "language_info": {
   "codemirror_mode": {
    "name": "ipython",
    "version": 3
   },
   "file_extension": ".py",
   "mimetype": "text/x-python",
   "name": "python",
   "nbconvert_exporter": "python",
   "pygments_lexer": "ipython3",
   "version": "3.12.5"
  }
 },
 "nbformat": 4,
 "nbformat_minor": 5
}
