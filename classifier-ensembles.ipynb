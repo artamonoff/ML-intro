{
 "cells": [
  {
   "cell_type": "code",
   "execution_count": 1,
   "id": "8c256825-7879-414e-ac7d-5a72483286c5",
   "metadata": {
    "execution": {
     "iopub.execute_input": "2023-11-24T18:32:18.413519Z",
     "iopub.status.busy": "2023-11-24T18:32:18.413519Z",
     "iopub.status.idle": "2023-11-24T18:32:18.417699Z",
     "shell.execute_reply": "2023-11-24T18:32:18.417699Z",
     "shell.execute_reply.started": "2023-11-24T18:32:18.413519Z"
    },
    "tags": []
   },
   "outputs": [],
   "source": [
    "import numpy as np\n",
    "import pandas as pd\n",
    "\n",
    "from sklearn.ensemble  import GradientBoostingClassifier, ExtraTreesClassifier, RandomForestClassifier\n",
    "from sklearn.model_selection import train_test_split\n",
    "from sklearn.metrics import roc_curve, roc_auc_score # ROC-curve, AUC\n",
    "\n",
    "import matplotlib.pyplot as plt\n",
    "\n",
    "# Не показывать FutureWarnings\n",
    "import warnings\n",
    "warnings.simplefilter(action='ignore', category=FutureWarning)"
   ]
  },
  {
   "cell_type": "code",
   "execution_count": 2,
   "id": "178135b9-7df0-4e9c-b04b-c520f590a11f",
   "metadata": {
    "execution": {
     "iopub.execute_input": "2023-11-24T18:23:10.465580Z",
     "iopub.status.busy": "2023-11-24T18:23:10.465580Z",
     "iopub.status.idle": "2023-11-24T18:23:10.496469Z",
     "shell.execute_reply": "2023-11-24T18:23:10.496469Z",
     "shell.execute_reply.started": "2023-11-24T18:23:10.465580Z"
    },
    "tags": []
   },
   "outputs": [],
   "source": [
    "df = pd.read_csv('./datasets/loanapp.csv')"
   ]
  },
  {
   "cell_type": "code",
   "execution_count": 3,
   "id": "31b985d3-dee6-4eec-bb14-b14b119d8bcc",
   "metadata": {
    "execution": {
     "iopub.execute_input": "2023-11-24T18:23:33.965001Z",
     "iopub.status.busy": "2023-11-24T18:23:33.964001Z",
     "iopub.status.idle": "2023-11-24T18:23:33.978784Z",
     "shell.execute_reply": "2023-11-24T18:23:33.978784Z",
     "shell.execute_reply.started": "2023-11-24T18:23:33.964001Z"
    },
    "tags": []
   },
   "outputs": [],
   "source": [
    "df = df.dropna()"
   ]
  },
  {
   "cell_type": "code",
   "execution_count": 4,
   "id": "5356eeef-5d36-474a-af5d-daf7468d8f98",
   "metadata": {
    "execution": {
     "iopub.execute_input": "2023-11-24T18:24:01.926145Z",
     "iopub.status.busy": "2023-11-24T18:24:01.926145Z",
     "iopub.status.idle": "2023-11-24T18:24:01.949299Z",
     "shell.execute_reply": "2023-11-24T18:24:01.949299Z",
     "shell.execute_reply.started": "2023-11-24T18:24:01.926145Z"
    },
    "tags": []
   },
   "outputs": [],
   "source": [
    "y = df['approve']\n",
    "X = df.drop(columns=['approve','reject', 'action'])\n",
    "# Разобьём выборку на обучающую и тестовую 80:20\n",
    "X_train,X_test,y_train,y_test = train_test_split(X,y,test_size=0.2,random_state=0)"
   ]
  },
  {
   "cell_type": "code",
   "execution_count": null,
   "id": "05a839ff-687c-4912-8ae0-dbdf5e69086e",
   "metadata": {
    "execution": {
     "iopub.execute_input": "2023-11-24T18:24:58.714081Z",
     "iopub.status.busy": "2023-11-24T18:24:58.713079Z",
     "iopub.status.idle": "2023-11-24T18:24:59.551784Z",
     "shell.execute_reply": "2023-11-24T18:24:59.551784Z",
     "shell.execute_reply.started": "2023-11-24T18:24:58.714081Z"
    },
    "tags": []
   },
   "outputs": [],
   "source": [
    "clf_boost = GradientBoostingClassifier()\n",
    "clf_boost.fit(X_train, y_train)"
   ]
  },
  {
   "cell_type": "code",
   "execution_count": null,
   "id": "ef17c117-bf6d-40e9-9a0c-5d05b1777bfd",
   "metadata": {
    "execution": {
     "iopub.execute_input": "2023-11-24T18:32:20.990734Z",
     "iopub.status.busy": "2023-11-24T18:32:20.989733Z",
     "iopub.status.idle": "2023-11-24T18:32:21.378763Z",
     "shell.execute_reply": "2023-11-24T18:32:21.378763Z",
     "shell.execute_reply.started": "2023-11-24T18:32:20.990734Z"
    },
    "tags": []
   },
   "outputs": [],
   "source": [
    "clf_forest = RandomForestClassifier()\n",
    "clf_forest.fit(X_train, y_train)"
   ]
  },
  {
   "cell_type": "code",
   "execution_count": null,
   "id": "54720262-98a4-407a-8417-9df066ba869c",
   "metadata": {
    "execution": {
     "iopub.execute_input": "2023-11-24T18:33:33.463243Z",
     "iopub.status.busy": "2023-11-24T18:33:33.463243Z",
     "iopub.status.idle": "2023-11-24T18:33:33.684860Z",
     "shell.execute_reply": "2023-11-24T18:33:33.684860Z",
     "shell.execute_reply.started": "2023-11-24T18:33:33.463243Z"
    },
    "tags": []
   },
   "outputs": [],
   "source": [
    "clf_extratree = ExtraTreesClassifier()\n",
    "clf_extratree.fit(X_train, y_train)"
   ]
  },
  {
   "cell_type": "code",
   "execution_count": null,
   "id": "816ade3a-78f6-4890-b881-db6a8c90a48a",
   "metadata": {
    "execution": {
     "iopub.execute_input": "2023-11-24T18:33:36.160345Z",
     "iopub.status.busy": "2023-11-24T18:33:36.160345Z",
     "iopub.status.idle": "2023-11-24T18:33:36.193047Z",
     "shell.execute_reply": "2023-11-24T18:33:36.193047Z",
     "shell.execute_reply.started": "2023-11-24T18:33:36.160345Z"
    },
    "tags": []
   },
   "outputs": [],
   "source": [
    "clf_boost.score(X_test, y_test), clf_forest.score(X_test, y_test), clf_extratree.score(X_test, y_test)"
   ]
  },
  {
   "cell_type": "code",
   "execution_count": null,
   "id": "fa92cb49-7b27-490a-8afb-dcea86f33d9c",
   "metadata": {
    "execution": {
     "iopub.execute_input": "2023-11-24T18:34:43.484079Z",
     "iopub.status.busy": "2023-11-24T18:34:43.483078Z",
     "iopub.status.idle": "2023-11-24T18:34:43.727956Z",
     "shell.execute_reply": "2023-11-24T18:34:43.727956Z",
     "shell.execute_reply.started": "2023-11-24T18:34:43.484079Z"
    },
    "tags": []
   },
   "outputs": [],
   "source": [
    "y_pred_prob = clf_boost.predict_proba(X_test)[:,1]\n",
    "fpr, tpr, _ = roc_curve (y_test, y_pred_prob)\n",
    "\n",
    "auc_roc = roc_auc_score (y_test, y_pred_prob)\n",
    "\n",
    "plt.plot (fpr,tpr,label=\"Boosting AUC= \"+str(auc_roc))\n",
    "\n",
    "y_pred_prob = clf_forest.predict_proba(X_test)[:,1]\n",
    "fpr, tpr, _ = roc_curve (y_test, y_pred_prob)\n",
    "\n",
    "auc_roc = roc_auc_score (y_test, y_pred_prob)\n",
    "\n",
    "plt.plot (fpr,tpr,label=\"Forest AUC= \"+str(auc_roc))\n",
    "\n",
    "y_pred_prob = clf_extratree.predict_proba(X_test)[:,1]\n",
    "fpr, tpr, _ = roc_curve (y_test, y_pred_prob)\n",
    "\n",
    "auc_roc = roc_auc_score (y_test, y_pred_prob)\n",
    "\n",
    "plt.plot (fpr,tpr,label=\"Extra Tree AUC= \"+str(auc_roc))\n",
    "\n",
    "plt.ylabel('True Positive Rate')\n",
    "plt.xlabel('False Positive Rate')\n",
    "plt.legend(loc=4)\n",
    "plt.show()"
   ]
  }
 ],
 "metadata": {
  "kernelspec": {
   "display_name": "base",
   "language": "python",
   "name": "python3"
  },
  "language_info": {
   "codemirror_mode": {
    "name": "ipython",
    "version": 3
   },
   "file_extension": ".py",
   "mimetype": "text/x-python",
   "name": "python",
   "nbconvert_exporter": "python",
   "pygments_lexer": "ipython3",
   "version": "3.12.4"
  }
 },
 "nbformat": 4,
 "nbformat_minor": 5
}
