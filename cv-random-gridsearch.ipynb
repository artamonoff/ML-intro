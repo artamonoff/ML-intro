{
 "cells": [
  {
   "cell_type": "markdown",
   "id": "4d649220",
   "metadata": {},
   "source": [
    "# Рандомизированный поиск по сетке Random Grid Search"
   ]
  },
  {
   "cell_type": "code",
   "execution_count": null,
   "id": "986f8694",
   "metadata": {},
   "outputs": [],
   "source": [
    "import numpy as np\n",
    "import pandas as pd\n",
    "\n",
    "from sklearn.ensemble import GradientBoostingClassifier\n",
    "from sklearn.tree import DecisionTreeClassifier\n",
    "from sklearn.model_selection import RandomizedSearchCV\n",
    "from scipy.stats import randint\n",
    "\n",
    "import matplotlib.pyplot as plt\n",
    "\n",
    "# Не показывать Warning\n",
    "import warnings\n",
    "warnings.simplefilter(action='ignore', category=Warning)"
   ]
  },
  {
   "cell_type": "code",
   "execution_count": null,
   "id": "e9a560f2",
   "metadata": {},
   "outputs": [],
   "source": [
    "df = pd.read_csv('./datasets/cholesterol_prediction.csv',sep=\";\")"
   ]
  },
  {
   "cell_type": "code",
   "execution_count": null,
   "id": "a7d3c25c",
   "metadata": {},
   "outputs": [],
   "source": [
    "y = df['cardio']\n",
    "X = df.drop(columns=['id','cardio'])"
   ]
  },
  {
   "cell_type": "code",
   "execution_count": null,
   "id": "4909d0a4",
   "metadata": {},
   "outputs": [],
   "source": [
    "model = DecisionTreeClassifier(random_state=2)\n",
    "\n",
    "np.random.seed(0)\n",
    "\n",
    "param_distributions = {'max_depth': randint(2, 21)}\n",
    "\n",
    "clf = RandomizedSearchCV(estimator = model, param_distributions = param_distributions, n_iter=10, scoring = 'accuracy', cv = 5)\n",
    "clf.fit(X, y)"
   ]
  },
  {
   "cell_type": "code",
   "execution_count": null,
   "id": "17448520",
   "metadata": {},
   "outputs": [],
   "source": [
    "clf.best_params_"
   ]
  },
  {
   "cell_type": "code",
   "execution_count": null,
   "id": "531b547e",
   "metadata": {},
   "outputs": [],
   "source": [
    "model = GradientBoostingClassifier(random_state=2)\n",
    "\n",
    "np.random.seed(0)\n",
    "\n",
    "param_distributions = {'n_estimators': randint(5, 51), 'max_depth': randint(2, 21)}\n",
    "\n",
    "clf = RandomizedSearchCV(estimator = model, param_distributions = param_distributions, n_iter=10, scoring = 'accuracy', cv = 5)\n",
    "clf.fit(X, y)"
   ]
  },
  {
   "cell_type": "code",
   "execution_count": null,
   "id": "be904bdc",
   "metadata": {},
   "outputs": [],
   "source": [
    "clf.best_params_"
   ]
  }
 ],
 "metadata": {
  "kernelspec": {
   "display_name": "base",
   "language": "python",
   "name": "python3"
  },
  "language_info": {
   "codemirror_mode": {
    "name": "ipython",
    "version": 3
   },
   "file_extension": ".py",
   "mimetype": "text/x-python",
   "name": "python",
   "nbconvert_exporter": "python",
   "pygments_lexer": "ipython3",
   "version": "3.12.10"
  }
 },
 "nbformat": 4,
 "nbformat_minor": 5
}
