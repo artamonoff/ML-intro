{
 "cells": [
  {
   "cell_type": "markdown",
   "id": "97f3351d-5127-4809-9b92-6d41df011ca4",
   "metadata": {},
   "source": [
    "# Иерархическая кластеризация\n",
    "\n",
    "\n",
    "Используем реализацию [иерархической кластеризации](https://scikit-learn.org/stable/modules/clustering.html#hierarchical-clustering) в [scikit-learn](https://scikit-learn.org/stable/index.html) (метод [AgglomerativeClustering](https://scikit-learn.org/stable/modules/generated/sklearn.cluster.AgglomerativeClustering.html))"
   ]
  },
  {
   "cell_type": "code",
   "execution_count": null,
   "id": "d3262ef9-8171-4eb6-a0aa-4a4b4633b285",
   "metadata": {
    "tags": []
   },
   "outputs": [],
   "source": [
    "import pandas as pd\n",
    "import numpy as np\n",
    "\n",
    "from sklearn.preprocessing import StandardScaler  # z-нормировка\n",
    "# from sklearn.preprocessing import MinMaxScaler, RobustScaler # другие способы нормировки\n",
    "\n",
    "from scipy.cluster.hierarchy import linkage, dendrogram # Построение дендрограммы\n",
    "\n",
    "import matplotlib.pyplot as plt"
   ]
  },
  {
   "cell_type": "code",
   "execution_count": null,
   "id": "3274c4af-3bc1-4e79-83e0-1d8adf48e072",
   "metadata": {
    "tags": []
   },
   "outputs": [],
   "source": [
    "df = pd.read_csv('./datasets/Countries.csv')\n",
    "# Удалим нечисловые переменные\n",
    "X = df.drop(columns=['Страны'])\n",
    "X"
   ]
  },
  {
   "cell_type": "code",
   "execution_count": null,
   "id": "86adfc63-4ec1-4fb5-a92e-a53652669c97",
   "metadata": {
    "tags": []
   },
   "outputs": [],
   "source": [
    "countries = list(df['Страны'])"
   ]
  },
  {
   "cell_type": "markdown",
   "id": "4a6eccdb-9a88-49af-8de3-acd9a2ff0552",
   "metadata": {},
   "source": [
    "## Нормирование данных"
   ]
  },
  {
   "cell_type": "code",
   "execution_count": null,
   "id": "301ea625-7aca-427f-8d06-0e139145563c",
   "metadata": {
    "tags": []
   },
   "outputs": [],
   "source": [
    "# Специфицируем метод нормировки\n",
    "scaler = StandardScaler(with_mean=True, with_std=True)\n",
    "# scaler = MinMaxScaler()\n",
    "# scaler = RobustScaler()\n",
    "\n",
    "X_norm = scaler.fit_transform(X)"
   ]
  },
  {
   "cell_type": "markdown",
   "id": "e1f22a01-284f-4d23-9400-bd0367136ccc",
   "metadata": {},
   "source": [
    "## Дендрограмма\n",
    "Дендрограмма существенно зависит от выбора расстояния.\n",
    "\n",
    "Нужно выбирать тот метод, который приведет к хорошо интерпретируемым кластерам"
   ]
  },
  {
   "cell_type": "code",
   "execution_count": null,
   "id": "b1605012-1afd-46a4-836d-2e84a7b029e5",
   "metadata": {
    "tags": []
   },
   "outputs": [],
   "source": [
    "mergings = linkage(X_norm, method='ward')  # попробуем прогнать несколько раз, меняя method"
   ]
  },
  {
   "cell_type": "code",
   "execution_count": null,
   "id": "92323beb-813b-48cd-9187-8704d86272e6",
   "metadata": {
    "tags": []
   },
   "outputs": [],
   "source": [
    "plt.figure(figsize=(25, 25))  # размер картинки\n",
    "\n",
    "dendrogram(mergings,\n",
    "           labels=countries,\n",
    "           leaf_rotation=90,\n",
    "           leaf_font_size=20,\n",
    "           )\n",
    "\n",
    "plt.show()"
   ]
  }
 ],
 "metadata": {
  "kernelspec": {
   "display_name": "Python 3 (ipykernel)",
   "language": "python",
   "name": "python3"
  },
  "language_info": {
   "codemirror_mode": {
    "name": "ipython",
    "version": 3
   },
   "file_extension": ".py",
   "mimetype": "text/x-python",
   "name": "python",
   "nbconvert_exporter": "python",
   "pygments_lexer": "ipython3",
   "version": "3.12.5"
  }
 },
 "nbformat": 4,
 "nbformat_minor": 5
}
