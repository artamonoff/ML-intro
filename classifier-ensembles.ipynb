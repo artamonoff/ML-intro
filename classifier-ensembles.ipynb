{
 "cells": [
  {
   "cell_type": "code",
   "execution_count": null,
   "id": "8c256825-7879-414e-ac7d-5a72483286c5",
   "metadata": {
    "tags": []
   },
   "outputs": [],
   "source": [
    "import numpy as np\n",
    "import pandas as pd\n",
    "\n",
    "from sklearn.ensemble  import GradientBoostingClassifier, ExtraTreesClassifier, RandomForestClassifier\n",
    "from sklearn.model_selection import train_test_split\n",
    "# базовые метрики классификации\n",
    "from sklearn.metrics import accuracy_score, f1_score, auc, class_likelihood_ratios\n",
    "# ROC-curve, AUC\n",
    "from sklearn.metrics import roc_curve, roc_auc_score, RocCurveDisplay\n",
    "# Precision-recall\n",
    "from sklearn.metrics import precision_recall_curve, average_precision_score, PrecisionRecallDisplay\n",
    "\n",
    "import matplotlib.pyplot as plt\n",
    "\n",
    "# Не показывать FutureWarnings\n",
    "import warnings\n",
    "warnings.simplefilter(action='ignore', category=FutureWarning)"
   ]
  },
  {
   "cell_type": "code",
   "execution_count": null,
   "id": "178135b9-7df0-4e9c-b04b-c520f590a11f",
   "metadata": {
    "tags": []
   },
   "outputs": [],
   "source": [
    "df = pd.read_csv('./datasets/loanapp.csv')"
   ]
  },
  {
   "cell_type": "code",
   "execution_count": null,
   "id": "31b985d3-dee6-4eec-bb14-b14b119d8bcc",
   "metadata": {
    "tags": []
   },
   "outputs": [],
   "source": [
    "df = df.dropna()"
   ]
  },
  {
   "cell_type": "code",
   "execution_count": null,
   "id": "5356eeef-5d36-474a-af5d-daf7468d8f98",
   "metadata": {
    "tags": []
   },
   "outputs": [],
   "source": [
    "y = df['approve']\n",
    "X = df.drop(columns=['approve','reject', 'action'])\n",
    "# Разобьём выборку на обучающую и тестовую 80:20\n",
    "X_train,X_test,y_train,y_test = train_test_split(X,y,test_size=0.2,random_state=0)"
   ]
  },
  {
   "cell_type": "code",
   "execution_count": null,
   "id": "05a839ff-687c-4912-8ae0-dbdf5e69086e",
   "metadata": {
    "tags": []
   },
   "outputs": [],
   "source": [
    "clf_boost = GradientBoostingClassifier()\n",
    "clf_boost.fit(X_train, y_train)"
   ]
  },
  {
   "cell_type": "code",
   "execution_count": null,
   "id": "ef17c117-bf6d-40e9-9a0c-5d05b1777bfd",
   "metadata": {
    "tags": []
   },
   "outputs": [],
   "source": [
    "clf_forest = RandomForestClassifier()\n",
    "clf_forest.fit(X_train, y_train)"
   ]
  },
  {
   "cell_type": "code",
   "execution_count": null,
   "id": "54720262-98a4-407a-8417-9df066ba869c",
   "metadata": {
    "tags": []
   },
   "outputs": [],
   "source": [
    "clf_extratrees = ExtraTreesClassifier()\n",
    "clf_extratrees.fit(X_train, y_train)"
   ]
  },
  {
   "cell_type": "markdown",
   "id": "d2aac911",
   "metadata": {},
   "source": [
    "## Accuracy"
   ]
  },
  {
   "cell_type": "code",
   "execution_count": null,
   "id": "816ade3a-78f6-4890-b881-db6a8c90a48a",
   "metadata": {
    "tags": []
   },
   "outputs": [],
   "source": [
    "clf_boost.score(X_test, y_test), clf_forest.score(X_test, y_test), clf_extratrees.score(X_test, y_test)"
   ]
  },
  {
   "cell_type": "markdown",
   "id": "b5d65efe",
   "metadata": {},
   "source": [
    "## ROC-curve & Precision-Recall"
   ]
  },
  {
   "cell_type": "code",
   "execution_count": null,
   "id": "fa92cb49-7b27-490a-8afb-dcea86f33d9c",
   "metadata": {
    "tags": []
   },
   "outputs": [],
   "source": [
    "fig, axs = plt.subplots(nrows=1, ncols=2, figsize=(12, 8))\n",
    "\n",
    "RocCurveDisplay.from_estimator(clf_boost, X_test, y_test, ax=axs[0], name='Boosting')\n",
    "RocCurveDisplay.from_estimator(clf_forest, X_test, y_test, ax=axs[0], name='Forest')\n",
    "RocCurveDisplay.from_estimator(clf_extratrees, X_test, y_test, ax=axs[0], name='Extra Trees')\n",
    "\n",
    "PrecisionRecallDisplay.from_estimator(clf_boost, X_test, y_test, ax=axs[1], name='Boosting')\n",
    "PrecisionRecallDisplay.from_estimator(clf_forest, X_test, y_test, ax=axs[1], name='Forest')\n",
    "PrecisionRecallDisplay.from_estimator(clf_extratrees, X_test, y_test, ax=axs[1], name='Extra Trees')\n",
    "\n",
    "axs[0].set_title('ROC-curves')\n",
    "axs[1].set_title('PR-curves')\n",
    "\n",
    "plt.show()"
   ]
  }
 ],
 "metadata": {
  "kernelspec": {
   "display_name": "Python 3 (ipykernel)",
   "language": "python",
   "name": "python3"
  },
  "language_info": {
   "codemirror_mode": {
    "name": "ipython",
    "version": 3
   },
   "file_extension": ".py",
   "mimetype": "text/x-python",
   "name": "python",
   "nbconvert_exporter": "python",
   "pygments_lexer": "ipython3",
   "version": "3.12.7"
  }
 },
 "nbformat": 4,
 "nbformat_minor": 5
}
