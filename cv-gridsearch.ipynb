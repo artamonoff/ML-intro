{
 "cells": [
  {
   "cell_type": "markdown",
   "id": "85bd6860",
   "metadata": {},
   "source": [
    "# Поиск по сетке Grid Search"
   ]
  },
  {
   "cell_type": "code",
   "execution_count": null,
   "id": "af66e06c",
   "metadata": {},
   "outputs": [],
   "source": [
    "import numpy as np\n",
    "import pandas as pd\n",
    "\n",
    "from sklearn.ensemble import RandomForestClassifier\n",
    "from sklearn.tree import DecisionTreeClassifier\n",
    "from sklearn.model_selection import GridSearchCV\n",
    "\n",
    "import matplotlib.pyplot as plt\n",
    "\n",
    "# Не показывать Warning\n",
    "import warnings\n",
    "warnings.simplefilter(action='ignore', category=Warning)"
   ]
  },
  {
   "cell_type": "code",
   "execution_count": null,
   "id": "6fc6ba36",
   "metadata": {},
   "outputs": [],
   "source": [
    "df = pd.read_csv('./datasets/cholesterol_prediction.csv',sep=\";\")"
   ]
  },
  {
   "cell_type": "code",
   "execution_count": null,
   "id": "3937ba5d",
   "metadata": {},
   "outputs": [],
   "source": [
    "y = df['cardio']\n",
    "X = df.drop(columns=['id','cardio'])"
   ]
  },
  {
   "cell_type": "code",
   "execution_count": null,
   "id": "7bc7c3a7",
   "metadata": {},
   "outputs": [],
   "source": [
    "model = DecisionTreeClassifier(random_state=0)\n",
    "\n",
    "parameters = {'max_depth': [3, 5, 10, 20, None]}\n",
    "\n",
    "clf = GridSearchCV(estimator = model, param_grid = parameters, scoring = 'accuracy', cv = 5)\n",
    "clf.fit(X, y)"
   ]
  },
  {
   "cell_type": "code",
   "execution_count": null,
   "id": "8f24953d",
   "metadata": {},
   "outputs": [],
   "source": [
    "clf.best_params_"
   ]
  },
  {
   "cell_type": "code",
   "execution_count": null,
   "id": "ef3780ed",
   "metadata": {},
   "outputs": [],
   "source": [
    "model = RandomForestClassifier(random_state=0)\n",
    "\n",
    "parameters = {'n_estimators':[10, 40, 50, 70, 100] , 'max_depth': [3, 5, 10, None]}\n",
    "\n",
    "clf = GridSearchCV(estimator = model, param_grid = parameters, scoring = 'accuracy', cv = 5)\n",
    "clf.fit(X, y)"
   ]
  },
  {
   "cell_type": "code",
   "execution_count": null,
   "id": "3439f84a",
   "metadata": {},
   "outputs": [],
   "source": [
    "clf.best_params_"
   ]
  }
 ],
 "metadata": {
  "kernelspec": {
   "display_name": "base",
   "language": "python",
   "name": "python3"
  },
  "language_info": {
   "codemirror_mode": {
    "name": "ipython",
    "version": 3
   },
   "file_extension": ".py",
   "mimetype": "text/x-python",
   "name": "python",
   "nbconvert_exporter": "python",
   "pygments_lexer": "ipython3",
   "version": "3.12.10"
  }
 },
 "nbformat": 4,
 "nbformat_minor": 5
}
