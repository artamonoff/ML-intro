{
 "cells": [
  {
   "cell_type": "markdown",
   "id": "4301c677-7627-4caf-9ce8-cf39c98761b9",
   "metadata": {},
   "source": [
    "# Основы pandas. Импорт из файла, типы переменных и пропущенные значения"
   ]
  },
  {
   "cell_type": "code",
   "execution_count": null,
   "id": "c21f9184-ca78-45e4-b444-ec799e47e258",
   "metadata": {
    "tags": []
   },
   "outputs": [],
   "source": [
    "import pandas as pd"
   ]
  },
  {
   "cell_type": "markdown",
   "id": "49247244-23f2-4d23-b49d-f1d4fc75a6df",
   "metadata": {},
   "source": [
    "## Загрузка данных\n",
    "Загрузим данные из файла `Diamond.csv`. Для этого используем метод `pandas.read_csv()`\n",
    "\n",
    "Это метод создаёт новый объект `pandas.DataFrame`, которому мы присвоим имя `df`\n",
    "\n",
    "**Замечание**: по умолчанию файл загружается из папки. где расположен Jupyter Notebook\n",
    "\n",
    "**Важно**: загружать можно как локальные файлы, так и файлы по web-ссылке"
   ]
  },
  {
   "cell_type": "code",
   "execution_count": null,
   "id": "474a22fb-e439-45c5-8bc6-5c8984a8fca2",
   "metadata": {
    "tags": []
   },
   "outputs": [],
   "source": [
    "df = pd.read_csv('../datasets/Diamond.csv')"
   ]
  },
  {
   "cell_type": "code",
   "execution_count": null,
   "id": "8e44b4b5-8db9-4332-abd2-0be2aeb5cd0c",
   "metadata": {
    "tags": []
   },
   "outputs": [],
   "source": [
    "# напечатаем датафрейм df\n",
    "df"
   ]
  },
  {
   "cell_type": "code",
   "execution_count": null,
   "id": "64fd8b84-1035-4a33-ab0a-e13937f1cad7",
   "metadata": {
    "tags": []
   },
   "outputs": [],
   "source": [
    "# размер датафрейма\n",
    "df.shape"
   ]
  },
  {
   "cell_type": "code",
   "execution_count": null,
   "id": "7187b362-ad6d-40a0-9314-22447811d0b4",
   "metadata": {
    "tags": []
   },
   "outputs": [],
   "source": [
    "# Первые 6 наблюдений\n",
    "df.head(6)"
   ]
  },
  {
   "cell_type": "code",
   "execution_count": null,
   "id": "783d9b82-b88d-4a63-98cc-a6bdfc2b51a5",
   "metadata": {
    "tags": []
   },
   "outputs": [],
   "source": [
    "# последние наблюдения\n",
    "df.tail()"
   ]
  },
  {
   "cell_type": "markdown",
   "id": "db3e793e-d4e5-45a3-8d76-0543375634b0",
   "metadata": {},
   "source": [
    "## Отдельные наблюдения\n",
    "\n",
    "используем методы `.loc[]` и `.iloc[]`"
   ]
  },
  {
   "cell_type": "code",
   "execution_count": null,
   "id": "561b691c-a420-499e-9446-3de058c7f4a6",
   "metadata": {},
   "outputs": [],
   "source": [
    "# посмотрим на наблюдения с индексами 0, 6, 45 по переменным carat, colour\n",
    "df.loc[[0,6,45], ['carat', 'colour']]"
   ]
  },
  {
   "cell_type": "code",
   "execution_count": null,
   "id": "650eb36e-7631-4c08-85bb-6357ea6f1a8e",
   "metadata": {},
   "outputs": [],
   "source": [
    "# посмотрим наблюдения с индексами с 5 по 11 по все переменным\n",
    "df.loc[5:11]"
   ]
  },
  {
   "cell_type": "markdown",
   "id": "e40669b6-fca5-459f-96bd-bb733d4f54c5",
   "metadata": {},
   "source": [
    "Для выборки столбцов можно указать их в списке в `[]`"
   ]
  },
  {
   "cell_type": "code",
   "execution_count": null,
   "id": "8d7c3801-25de-4eeb-a8b7-572492d4f4e3",
   "metadata": {},
   "outputs": [],
   "source": [
    "# выберем столбцы carat & price\n",
    "df[['carat', 'price']]"
   ]
  },
  {
   "cell_type": "code",
   "execution_count": null,
   "id": "1f4a8661-043f-4e5c-8049-12ca7749843b",
   "metadata": {},
   "outputs": [],
   "source": [
    "# альтернативно с помощью .loc\n",
    "df.loc[:,['carat', 'price']]"
   ]
  },
  {
   "cell_type": "markdown",
   "id": "16e5a07f-18eb-4c57-bab6-4f6dd87ee49a",
   "metadata": {},
   "source": [
    "## Типы переменных и пропущенные значения\n",
    "Посмотрим тип каждой переменной в датафрейме\n",
    "\n",
    "Какие переменные числовые, а какие категориальные?"
   ]
  },
  {
   "cell_type": "code",
   "execution_count": null,
   "id": "72b686b3-846d-49d4-98ae-2259230133a5",
   "metadata": {},
   "outputs": [],
   "source": [
    "# общая информация\n",
    "df.info()"
   ]
  },
  {
   "cell_type": "code",
   "execution_count": null,
   "id": "bdc0d812-f6b0-42f7-8ae3-afe9eb987264",
   "metadata": {
    "tags": []
   },
   "outputs": [],
   "source": [
    "df.dtypes"
   ]
  },
  {
   "cell_type": "markdown",
   "id": "1ae46646-dcf2-4b4d-bdc7-302509a8d2b4",
   "metadata": {},
   "source": [
    "Посмотрим число наблюдений по каждой переменной.\n",
    "\n",
    "Есть ли пропуещенные значения?"
   ]
  },
  {
   "cell_type": "code",
   "execution_count": null,
   "id": "80eef5d6-2d54-46ea-8538-47b6ceb2073a",
   "metadata": {
    "tags": []
   },
   "outputs": [],
   "source": [
    "df.count()"
   ]
  },
  {
   "cell_type": "markdown",
   "id": "2d156830-b74b-4619-8274-88ddbbf8d354",
   "metadata": {},
   "source": [
    "Посчитаем отдельно число пропущенных наблюдений по каждой переменной"
   ]
  },
  {
   "cell_type": "code",
   "execution_count": null,
   "id": "2ccde3d8-4624-4644-be4e-47eba9f626b2",
   "metadata": {
    "tags": []
   },
   "outputs": [],
   "source": [
    "df.isna().sum()"
   ]
  },
  {
   "cell_type": "markdown",
   "id": "5f4d3280-7841-4475-a3cf-c9eb6ed52b39",
   "metadata": {
    "tags": []
   },
   "source": [
    "Удаление пропущенных наблюдений (по умолчанию удаляются строки с пропущенными наблюдениями)"
   ]
  },
  {
   "cell_type": "code",
   "execution_count": null,
   "id": "8bac7323-64bc-4864-9351-8fe9386b3b4d",
   "metadata": {},
   "outputs": [],
   "source": [
    "df = df.dropna()"
   ]
  }
 ],
 "metadata": {
  "kernelspec": {
   "display_name": "Python 3 (ipykernel)",
   "language": "python",
   "name": "python3"
  },
  "language_info": {
   "codemirror_mode": {
    "name": "ipython",
    "version": 3
   },
   "file_extension": ".py",
   "mimetype": "text/x-python",
   "name": "python",
   "nbconvert_exporter": "python",
   "pygments_lexer": "ipython3",
   "version": "3.12.7"
  }
 },
 "nbformat": 4,
 "nbformat_minor": 5
}
