{
 "cells": [
  {
   "cell_type": "markdown",
   "id": "e36074ca-a3d5-4ce3-b072-2b9b6ca6b557",
   "metadata": {},
   "source": [
    "# Метрики классификации"
   ]
  },
  {
   "cell_type": "code",
   "execution_count": 3,
   "id": "c7f6d934-2f3d-422a-b571-351a4ce93279",
   "metadata": {},
   "outputs": [],
   "source": [
    "import numpy as np\n",
    "import pandas as pd\n",
    "\n",
    "from sklearn.ensemble  import GradientBoostingClassifier, ExtraTreesClassifier, RandomForestClassifier\n",
    "from sklearn.model_selection import train_test_split\n",
    "from sklearn.metrics import accuracy_score, f1_score, precision_score, recall_score, roc_auc_score, roc_curve, average_precision_score, precision_recall_curve, PrecisionRecallDisplay, auc\n",
    "\n",
    "import matplotlib.pyplot as plt\n",
    "\n",
    "# Не показывать FutureWarnings\n",
    "import warnings\n",
    "warnings.simplefilter(action='ignore', category=FutureWarning)"
   ]
  },
  {
   "cell_type": "code",
   "execution_count": 4,
   "id": "c98e0be8-6175-442e-ba0f-6e346f982ac1",
   "metadata": {},
   "outputs": [],
   "source": [
    "df = pd.read_csv('./datasets/loanapp.csv')\n",
    "df = df.dropna()"
   ]
  },
  {
   "cell_type": "code",
   "execution_count": 5,
   "id": "de60dd72-fd1d-4095-be1d-a428d2b3005a",
   "metadata": {},
   "outputs": [],
   "source": [
    "y = df['approve']\n",
    "X = df.drop(columns=['approve','reject', 'action'])\n",
    "# Разобьём выборку на обучающую и тестовую 80:20\n",
    "X_train,X_test,y_train,y_test = train_test_split(X,y,test_size=0.2,random_state=0)"
   ]
  },
  {
   "cell_type": "code",
   "execution_count": null,
   "id": "8ce71e8e-05b4-4326-9ece-fdc543f82c61",
   "metadata": {},
   "outputs": [],
   "source": [
    "clf_boost = GradientBoostingClassifier()\n",
    "clf_boost.fit(X_train, y_train)\n",
    "\n",
    "clf_forest = RandomForestClassifier()\n",
    "clf_forest.fit(X_train, y_train)\n",
    "\n",
    "clf_extratree = ExtraTreesClassifier()\n",
    "clf_extratree.fit(X_train, y_train)"
   ]
  },
  {
   "cell_type": "markdown",
   "id": "db43dae8-889a-4b49-9db2-7562f771f34c",
   "metadata": {},
   "source": [
    "## Accuracy"
   ]
  },
  {
   "cell_type": "code",
   "execution_count": null,
   "id": "73e53a20-1611-4de3-8258-abd927d7068d",
   "metadata": {},
   "outputs": [],
   "source": [
    "print( clf_boost.score(X_test, y_test) )\n",
    "print( clf_forest.score(X_test, y_test) )\n",
    "print( clf_extratree.score(X_test, y_test) )"
   ]
  },
  {
   "cell_type": "code",
   "execution_count": null,
   "id": "aad9cde3-a55a-4429-96d2-33b0e31d9b5a",
   "metadata": {},
   "outputs": [],
   "source": [
    "# альтернативно\n",
    "print( accuracy_score(y_test, clf_boost.predict(X_test)) )\n",
    "print( accuracy_score(y_test, clf_forest.predict(X_test)) )\n",
    "print( accuracy_score(y_test, clf_extratree.predict(X_test)) )"
   ]
  },
  {
   "cell_type": "markdown",
   "id": "d1b7e947-bde7-4a1f-b6a3-fab6803a997b",
   "metadata": {},
   "source": [
    "## Average precision score"
   ]
  },
  {
   "cell_type": "code",
   "execution_count": null,
   "id": "9a3874a9-7b30-445f-9741-2783ba2b590f",
   "metadata": {},
   "outputs": [],
   "source": [
    "print( average_precision_score(y_test, clf_boost.predict_proba(X_test)[:,1]) )\n",
    "print( average_precision_score(y_test, clf_forest.predict_proba(X_test)[:,1]) )\n",
    "print( average_precision_score(y_test, clf_extratree.predict_proba(X_test)[:,1]) )"
   ]
  },
  {
   "cell_type": "markdown",
   "id": "04646ef0-97b4-4135-96af-07c011f6019a",
   "metadata": {},
   "source": [
    "## F-метрика"
   ]
  },
  {
   "cell_type": "code",
   "execution_count": null,
   "id": "945f139b-71b3-482d-a16b-1b11eb18ced0",
   "metadata": {},
   "outputs": [],
   "source": [
    "print( f1_score(y_test, clf_boost.predict(X_test)) )\n",
    "print( f1_score(y_test, clf_forest.predict(X_test)) )\n",
    "print( f1_score(y_test, clf_extratree.predict(X_test)) )"
   ]
  },
  {
   "cell_type": "markdown",
   "id": "97467b31-be9e-4e4f-9aa0-d58c6b480a71",
   "metadata": {},
   "source": [
    "## ROC-кривая"
   ]
  },
  {
   "cell_type": "code",
   "execution_count": null,
   "id": "1db67b43-350b-488c-b1d0-87fb49a97288",
   "metadata": {},
   "outputs": [],
   "source": [
    "y_pred_prob = clf_boost.predict_proba(X_test)[:,1]\n",
    "fpr, tpr, _ = roc_curve (y_test, y_pred_prob)\n",
    "\n",
    "auc_roc = roc_auc_score (y_test, y_pred_prob)\n",
    "\n",
    "plt.plot (fpr,tpr,label=\"Boosting AUC= \"+str(auc_roc))\n",
    "\n",
    "y_pred_prob = clf_forest.predict_proba(X_test)[:,1]\n",
    "fpr, tpr, _ = roc_curve (y_test, y_pred_prob)\n",
    "\n",
    "auc_roc = roc_auc_score (y_test, y_pred_prob)\n",
    "\n",
    "plt.plot (fpr,tpr,label=\"Forest AUC= \"+str(auc_roc))\n",
    "\n",
    "y_pred_prob = clf_extratree.predict_proba(X_test)[:,1]\n",
    "fpr, tpr, _ = roc_curve (y_test, y_pred_prob)\n",
    "\n",
    "auc_roc = roc_auc_score (y_test, y_pred_prob)\n",
    "\n",
    "plt.plot (fpr,tpr,label=\"Extra Tree AUC= \"+str(auc_roc))\n",
    "\n",
    "plt.ylabel('True Positive Rate')\n",
    "plt.xlabel('False Positive Rate')\n",
    "plt.legend(loc=4)\n",
    "plt.show()"
   ]
  },
  {
   "cell_type": "markdown",
   "id": "0f46c861-66cc-4689-b529-ff4b8873d134",
   "metadata": {},
   "source": [
    "## Precision-Recall curve"
   ]
  },
  {
   "cell_type": "code",
   "execution_count": null,
   "id": "a8112a01-f1dc-4145-9a09-3af045b80d20",
   "metadata": {},
   "outputs": [],
   "source": [
    "y_pred_prob = clf_boost.predict_proba(X_test)[:,1]\n",
    "precision, recall, _ = precision_recall_curve (y_test, y_pred_prob)\n",
    "\n",
    "auc_pr = auc(recall, precision)\n",
    "\n",
    "plt.plot (recall,precision,label=\"Boosting AUC= \"+str(auc_pr))\n",
    "\n",
    "y_pred_prob = clf_forest.predict_proba(X_test)[:,1]\n",
    "precision, recall, _ = precision_recall_curve (y_test, y_pred_prob)\n",
    "\n",
    "auc_pr = auc(recall, precision)\n",
    "\n",
    "plt.plot (recall,precision,label=\"Forest AUC= \"+str(auc_pr))\n",
    "\n",
    "y_pred_prob = clf_extratree.predict_proba(X_test)[:,1]\n",
    "precision, recall, _ = precision_recall_curve (y_test, y_pred_prob)\n",
    "\n",
    "auc_pr = auc(recall, precision)\n",
    "\n",
    "plt.plot (recall,precision,label=\"Extra Tree AUC= \"+str(auc_pr))\n",
    "\n",
    "plt.ylabel('Prcision')\n",
    "plt.xlabel('Recall')\n",
    "plt.legend(loc=3)\n",
    "plt.show()"
   ]
  },
  {
   "cell_type": "code",
   "execution_count": null,
   "id": "91558e49-584d-48cc-b540-01693df6afc8",
   "metadata": {},
   "outputs": [],
   "source": []
  }
 ],
 "metadata": {
  "kernelspec": {
   "display_name": "base",
   "language": "python",
   "name": "python3"
  },
  "language_info": {
   "codemirror_mode": {
    "name": "ipython",
    "version": 3
   },
   "file_extension": ".py",
   "mimetype": "text/x-python",
   "name": "python",
   "nbconvert_exporter": "python",
   "pygments_lexer": "ipython3",
   "version": "3.12.7"
  }
 },
 "nbformat": 4,
 "nbformat_minor": 5
}
