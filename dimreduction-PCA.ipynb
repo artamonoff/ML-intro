{
 "cells": [
  {
   "cell_type": "markdown",
   "id": "f2cb445e-cab6-4e64-bd5b-665b0e951059",
   "metadata": {},
   "source": [
    "# Метод главных компонент"
   ]
  },
  {
   "cell_type": "code",
   "execution_count": null,
   "id": "1fae3990-f93a-4a3f-9764-fecbfacc0f8c",
   "metadata": {
    "tags": []
   },
   "outputs": [],
   "source": [
    "import pandas as pd\n",
    "import numpy as np\n",
    "\n",
    "from sklearn.decomposition import PCA # Метод главных компонент\n",
    "from sklearn.preprocessing import StandardScaler  # z-нормировка\n",
    "# from sklearn.preprocessing import MinMaxScaler, RobustScaler # другие способы нормировки\n",
    "\n",
    "import matplotlib.pyplot as plt # 2D-визуализация\n",
    "import plotly.express as px # 3D-визуализация"
   ]
  },
  {
   "cell_type": "code",
   "execution_count": null,
   "id": "25cae165-6771-4d91-a8fc-63d7a3844d6c",
   "metadata": {
    "tags": []
   },
   "outputs": [],
   "source": [
    "df = pd.read_csv('./datasets/countries.csv')\n",
    "df.head()"
   ]
  },
  {
   "cell_type": "code",
   "execution_count": null,
   "id": "e8e32447-9da2-4f89-bbff-45e20ccff6dd",
   "metadata": {
    "tags": []
   },
   "outputs": [],
   "source": [
    "# Удалим нечисловые переменные\n",
    "X = df.drop(columns=['Страны'])\n",
    "X"
   ]
  },
  {
   "cell_type": "markdown",
   "id": "035f622e-0135-4d07-8918-0ac205e76cc4",
   "metadata": {},
   "source": [
    "## Нормирование данных\n",
    "\n",
    "Основные методы нормировки в `scikit-learn`\n",
    "\n",
    "|Методы|формула|класс в `scikit-learn`|\n",
    "|-|-|-|\n",
    "| z-нормировка | $(x_i-\\bar{x})/s.d.(x)$ |`StandardScaler`|\n",
    "| min-max- нормировка | $(x_i-x_{\\min})/(x_{\\max}-x_{\\min})$ | `MinMaxScaler` |\n",
    "| робастная нормировка | $(x_i-x_{med})/IQR$ | `RobustScaler` |"
   ]
  },
  {
   "cell_type": "code",
   "execution_count": null,
   "id": "255cd1e5-f523-455a-ab90-2cb81fa56539",
   "metadata": {
    "tags": []
   },
   "outputs": [],
   "source": [
    "# Специфицируем метод нормировки\n",
    "scaler = StandardScaler(with_mean=True, with_std=True)\n",
    "# scaler = MinMaxScaler()\n",
    "# scaler = RobustScaler()\n",
    "\n",
    "X_norm = scaler.fit_transform(X)"
   ]
  },
  {
   "cell_type": "markdown",
   "id": "8910f45c-29f4-4b2e-9bee-ea7238e7887e",
   "metadata": {},
   "source": [
    "## Выделение главных компонент\n",
    "Выделим ГК, выведем и визуализируем\n",
    "- дисперсии главных компонент нормированные на сумму дисперсий всех компонент \n",
    "- накопленную сумму этих дисперсий"
   ]
  },
  {
   "cell_type": "code",
   "execution_count": null,
   "id": "8e91904a-8ed9-4bba-9b4a-347ad8d2dbc7",
   "metadata": {
    "tags": []
   },
   "outputs": [],
   "source": [
    "pca = PCA()\n",
    "pca.fit(X_norm)\n",
    "print('Дисперсии главных компонент')\n",
    "print(pca.explained_variance_ratio_)"
   ]
  },
  {
   "cell_type": "code",
   "execution_count": null,
   "id": "88595bf6",
   "metadata": {},
   "outputs": [],
   "source": [
    "plt.bar(np.arange(1, len(pca.explained_variance_ratio_)+1),  pca.explained_variance_ratio_)\n",
    "plt.title('Нормированные дисперсии главных компонент')\n",
    "plt.xlabel('PC')\n",
    "plt.ylabel('%')\n",
    "plt.show()"
   ]
  },
  {
   "cell_type": "code",
   "execution_count": null,
   "id": "1d8b05fa",
   "metadata": {},
   "outputs": [],
   "source": [
    "print('Накопленная дисперсия главных компонент')\n",
    "print(np.cumsum(pca.explained_variance_ratio_) )"
   ]
  },
  {
   "cell_type": "code",
   "execution_count": null,
   "id": "c9bb2c23",
   "metadata": {},
   "outputs": [],
   "source": [
    "plt.bar(np.arange(1, len(pca.explained_variance_ratio_)+1), np.cumsum(pca.explained_variance_ratio_) )\n",
    "plt.title('Накопленные дисперсии главных компонент')\n",
    "plt.xlabel('PC')\n",
    "plt.ylabel('%')\n",
    "plt.show()"
   ]
  },
  {
   "cell_type": "markdown",
   "id": "a73abac0-9afe-4a82-b590-f49a5c8affcd",
   "metadata": {},
   "source": [
    "*Вывод*: первые три компоненты объясняют $\\approx 70\\%$ вариации\n",
    "\n",
    "Используем `PCA` для выделения первых трёх компонент (параметр `n_components`) "
   ]
  },
  {
   "cell_type": "code",
   "execution_count": null,
   "id": "9b8521b9-5ddf-472f-a34f-81ad7bf60d6c",
   "metadata": {
    "tags": []
   },
   "outputs": [],
   "source": [
    "pca = PCA(n_components=3)\n",
    "PC = pca.fit_transform(X_norm)\n",
    "# Переведём в формат DataFrame\n",
    "PC_df = pd.DataFrame(data=PC, columns = ['PC1', 'PC2', 'PC3'])\n",
    "PC_df"
   ]
  },
  {
   "cell_type": "markdown",
   "id": "1a23a33b",
   "metadata": {},
   "source": [
    "Веса (координаты) для главных компонент в пространстве признаков"
   ]
  },
  {
   "cell_type": "code",
   "execution_count": null,
   "id": "bf58029e",
   "metadata": {},
   "outputs": [],
   "source": [
    "pca.components_.T"
   ]
  },
  {
   "cell_type": "markdown",
   "id": "e4a574de-1129-48c3-aeba-9ccd217b93d6",
   "metadata": {},
   "source": [
    "## Визуализация главных компонент"
   ]
  },
  {
   "cell_type": "code",
   "execution_count": null,
   "id": "a2c691ab-d17c-4d8a-b8b8-a49078cfb6d3",
   "metadata": {
    "tags": []
   },
   "outputs": [],
   "source": [
    "plt.scatter(data=PC_df, x='PC1', y='PC2')\n",
    "plt.xlabel('PC1')\n",
    "plt.ylabel('PC2')\n",
    "plt.show()"
   ]
  },
  {
   "cell_type": "code",
   "execution_count": null,
   "id": "a992628a-6199-4332-8dca-379c57ae8ab1",
   "metadata": {
    "tags": []
   },
   "outputs": [],
   "source": [
    "fig = px.scatter_3d(PC_df, x='PC1', y='PC2', z='PC3', text=df['Страны'])\n",
    "fig.update_traces(marker_size=3)\n",
    "fig.show()"
   ]
  }
 ],
 "metadata": {
  "kernelspec": {
   "display_name": "base",
   "language": "python",
   "name": "python3"
  },
  "language_info": {
   "codemirror_mode": {
    "name": "ipython",
    "version": 3
   },
   "file_extension": ".py",
   "mimetype": "text/x-python",
   "name": "python",
   "nbconvert_exporter": "python",
   "pygments_lexer": "ipython3",
   "version": "3.12.7"
  }
 },
 "nbformat": 4,
 "nbformat_minor": 5
}
