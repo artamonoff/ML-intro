{
 "cells": [
  {
   "cell_type": "code",
   "execution_count": null,
   "metadata": {
    "execution": {
     "iopub.execute_input": "2023-12-15T17:03:33.348338Z",
     "iopub.status.busy": "2023-12-15T17:03:33.347335Z",
     "iopub.status.idle": "2023-12-15T17:03:35.494469Z",
     "shell.execute_reply": "2023-12-15T17:03:35.494469Z",
     "shell.execute_reply.started": "2023-12-15T17:03:33.348338Z"
    },
    "tags": []
   },
   "outputs": [],
   "source": [
    "import numpy as np\n",
    "import pandas as pd\n",
    "\n",
    "from sklearn.model_selection import train_test_split\n",
    "from sklearn.ensemble import RandomForestClassifier\n",
    "from sklearn.model_selection import validation_curve, cross_val_score\n",
    "\n",
    "import matplotlib.pyplot as plt\n",
    "\n",
    "# Не показывать Warning\n",
    "import warnings\n",
    "warnings.simplefilter(action='ignore', category=Warning)"
   ]
  },
  {
   "cell_type": "code",
   "execution_count": null,
   "metadata": {
    "execution": {
     "iopub.execute_input": "2023-12-15T17:03:37.586778Z",
     "iopub.status.busy": "2023-12-15T17:03:37.586778Z",
     "iopub.status.idle": "2023-12-15T17:03:37.700315Z",
     "shell.execute_reply": "2023-12-15T17:03:37.700315Z",
     "shell.execute_reply.started": "2023-12-15T17:03:37.586778Z"
    },
    "tags": []
   },
   "outputs": [],
   "source": [
    "df = pd.read_csv('./datasets/cholesterol_prediction.csv',sep=\";\")\n",
    "df.head()"
   ]
  },
  {
   "cell_type": "code",
   "execution_count": null,
   "metadata": {
    "execution": {
     "iopub.execute_input": "2023-12-15T17:03:40.229670Z",
     "iopub.status.busy": "2023-12-15T17:03:40.229670Z",
     "iopub.status.idle": "2023-12-15T17:03:40.255957Z",
     "shell.execute_reply": "2023-12-15T17:03:40.254946Z",
     "shell.execute_reply.started": "2023-12-15T17:03:40.229670Z"
    },
    "tags": []
   },
   "outputs": [],
   "source": [
    "y = df['cardio']\n",
    "X = df.drop(columns=['id','cardio'])\n",
    "\n",
    "X_train, X_test, y_train, y_test = train_test_split(X,y, test_size=0.2)"
   ]
  },
  {
   "cell_type": "code",
   "execution_count": null,
   "metadata": {
    "execution": {
     "iopub.execute_input": "2023-12-15T17:03:41.585407Z",
     "iopub.status.busy": "2023-12-15T17:03:41.585407Z",
     "iopub.status.idle": "2023-12-15T17:03:41.588965Z",
     "shell.execute_reply": "2023-12-15T17:03:41.588965Z",
     "shell.execute_reply.started": "2023-12-15T17:03:41.585407Z"
    },
    "tags": []
   },
   "outputs": [],
   "source": [
    "# результат k-Fold валидации на обучающей выборке модели с заданными параметрами\n",
    "rf = RandomForestClassifier(n_estimators=10, criterion='gini', max_depth=None, random_state=42)\n",
    "\n",
    "scores = cross_val_score(rf, X_train, y_train, cv=5, scoring=\"accuracy\")\n",
    "scores"
   ]
  },
  {
   "cell_type": "code",
   "execution_count": null,
   "metadata": {},
   "outputs": [],
   "source": [
    "# Данные для Validation Curve\n",
    "rf = RandomForestClassifier(n_estimators=100, criterion='gini', max_depth=None, random_state=42)\n",
    "\n",
    "param_range = np.arange(10, 101, 10)\n",
    "\n",
    "train_scores, test_scores = validation_curve(rf, X_train, y_train, param_name=\"n_estimators\", param_range=param_range, cv=5, scoring=\"accuracy\")\n",
    "train_scores, test_scores"
   ]
  },
  {
   "cell_type": "code",
   "execution_count": null,
   "metadata": {},
   "outputs": [],
   "source": [
    "# Данные для Validation Curve\n",
    "rf = RandomForestClassifier(n_estimators=100, criterion='gini', max_depth=None, random_state=42)\n",
    "\n",
    "param_range = np.arange(10, 101, 10)\n",
    "\n",
    "train_scores, test_scores = validation_curve(rf, X_train, y_train, param_name=\"n_estimators\", param_range=param_range, cv=5, scoring=\"roc_auc\")\n",
    "train_scores, test_scores"
   ]
  },
  {
   "cell_type": "code",
   "execution_count": null,
   "metadata": {},
   "outputs": [],
   "source": [
    "# Данные для Validation Curve\n",
    "rf = RandomForestClassifier(n_estimators=100, criterion='gini', max_depth=None, random_state=42)\n",
    "\n",
    "param_range = np.arange(10, 101, 10)\n",
    "\n",
    "train_scores, test_scores = validation_curve(rf, X_train, y_train, param_name=\"n_estimators\", param_range=param_range, cv=5, scoring=\"f1\")\n",
    "train_scores, test_scores"
   ]
  }
 ],
 "metadata": {
  "kernelspec": {
   "display_name": "base",
   "language": "python",
   "name": "python3"
  },
  "language_info": {
   "codemirror_mode": {
    "name": "ipython",
    "version": 3
   },
   "file_extension": ".py",
   "mimetype": "text/x-python",
   "name": "python",
   "nbconvert_exporter": "python",
   "pygments_lexer": "ipython3",
   "version": "3.12.7"
  }
 },
 "nbformat": 4,
 "nbformat_minor": 4
}
