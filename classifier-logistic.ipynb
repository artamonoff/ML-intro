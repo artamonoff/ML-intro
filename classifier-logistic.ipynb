{
 "cells": [
  {
   "cell_type": "code",
   "execution_count": null,
   "id": "84d954b8-db4c-4625-9765-be07d5a7cd92",
   "metadata": {
    "tags": []
   },
   "outputs": [],
   "source": [
    "import numpy as np\n",
    "import pandas as pd\n",
    "\n",
    "from sklearn.linear_model import LogisticRegression\n",
    "from sklearn.model_selection import train_test_split\n",
    "from sklearn.metrics import roc_curve, roc_auc_score # ROC-curve, AUC\n",
    "\n",
    "import matplotlib.pyplot as plt\n",
    "import seaborn as sns\n",
    "\n",
    "# Не показывать FutureWarnings\n",
    "import warnings\n",
    "warnings.simplefilter(action='ignore', category=FutureWarning)"
   ]
  },
  {
   "cell_type": "code",
   "execution_count": null,
   "id": "cfb8435c-2d6a-419a-b57b-dd571c1e1b3d",
   "metadata": {
    "tags": []
   },
   "outputs": [],
   "source": [
    "df = pd.read_csv('./datasets/loanapp.csv')"
   ]
  },
  {
   "cell_type": "code",
   "execution_count": null,
   "metadata": {},
   "outputs": [],
   "source": [
    "df = df.dropna()"
   ]
  },
  {
   "cell_type": "code",
   "execution_count": null,
   "metadata": {},
   "outputs": [],
   "source": [
    "sns.heatmap(df.corr())"
   ]
  },
  {
   "cell_type": "code",
   "execution_count": null,
   "metadata": {},
   "outputs": [],
   "source": [
    "df= df.drop(columns='msa')\n",
    "sns.heatmap(df.corr())"
   ]
  },
  {
   "cell_type": "code",
   "execution_count": null,
   "metadata": {},
   "outputs": [],
   "source": [
    "np.min( df.corr() )"
   ]
  },
  {
   "cell_type": "code",
   "execution_count": null,
   "metadata": {},
   "outputs": [],
   "source": [
    "corr_matrix = df.corr()\n",
    "col_to_remove =[]\n",
    "my_min = []\n",
    "my_max = []\n",
    "# corr_matrix.columns\n",
    "for i in corr_matrix.columns:\n",
    "\tmy_min.append(np.min(corr_matrix[i].drop(labels=i)))\n",
    "\tmy_max.append(np.max(corr_matrix[i].drop(labels=i)))\n",
    "\t# print(np.min(corr_matrix[i].drop(labels=i)), np.max(corr_matrix[i].drop(labels=i)))\n",
    "\t# if np.min(corr_matrix[i].drop(labels=i))==-1 : # or np.max(corr_matrix[i].drop(labels=i))==1:\n",
    "\t# \tcol_to_remove.append(i)\n",
    "# col_to_remove\n",
    "df = pd.dfFrame({'min':my_min, 'max':my_max}, index=corr_matrix.index)\n",
    "df"
   ]
  },
  {
   "cell_type": "code",
   "execution_count": null,
   "metadata": {},
   "outputs": [],
   "source": [
    "corr_matrix = df.corr()\n",
    "col_to_remove =[]\n",
    "for i in corr_matrix.columns:\n",
    "\tif np.min(corr_matrix[i]) == -1:\n",
    "\t\tcol_to_remove.append(i)\n",
    "col_to_remove"
   ]
  },
  {
   "cell_type": "code",
   "execution_count": null,
   "id": "d1394ba2-6c5b-4d1f-8474-4e90243e8ce6",
   "metadata": {
    "tags": []
   },
   "outputs": [],
   "source": [
    "# df = df.dropna()\n",
    "\n",
    "y = df['approve']\n",
    "X = df.drop(columns=['approve', 'reject'])\n",
    "# Разобьём выборку на обучающую и тестовую 80:20\n",
    "X_train,X_test,y_train,y_test = train_test_split(X,y,test_size=0.2,random_state=0)"
   ]
  },
  {
   "cell_type": "code",
   "execution_count": null,
   "id": "040f2791-69a9-4a85-b7d9-2d9f0aecd4c5",
   "metadata": {
    "tags": []
   },
   "outputs": [],
   "source": [
    "clf_logistic = LogisticRegression(penalty=None, random_state=0)\n",
    "clf_logistic.fit(X_train, y_train)"
   ]
  }
 ],
 "metadata": {
  "kernelspec": {
   "display_name": "Python 3 (ipykernel)",
   "language": "python",
   "name": "python3"
  },
  "language_info": {
   "codemirror_mode": {
    "name": "ipython",
    "version": 3
   },
   "file_extension": ".py",
   "mimetype": "text/x-python",
   "name": "python",
   "nbconvert_exporter": "python",
   "pygments_lexer": "ipython3",
   "version": "3.11.5"
  }
 },
 "nbformat": 4,
 "nbformat_minor": 5
}
