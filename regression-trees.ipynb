{
 "cells": [
  {
   "cell_type": "markdown",
   "id": "841562c2",
   "metadata": {},
   "source": [
    "# Регрессия: Решающие деревья"
   ]
  },
  {
   "cell_type": "code",
   "execution_count": null,
   "id": "750f5040",
   "metadata": {},
   "outputs": [],
   "source": [
    "import numpy as np\n",
    "import pandas as pd\n",
    "\n",
    "from sklearn.tree import DecisionTreeRegressor, plot_tree\n",
    "from sklearn.model_selection import train_test_split\n",
    "from sklearn.metrics import r2_score, mean_squared_error, mean_absolute_error, mean_absolute_percentage_error # метрики подгонки\n",
    "from sklearn.metrics import mean_squared_log_error, median_absolute_error, explained_variance_score # метрики подгонки\n",
    "\n",
    "import matplotlib.pyplot as plt\n",
    "\n",
    "# Не показывать Warning\n",
    "import warnings\n",
    "warnings.simplefilter(action='ignore', category=Warning)"
   ]
  },
  {
   "cell_type": "code",
   "execution_count": null,
   "id": "2d7faac5",
   "metadata": {},
   "outputs": [],
   "source": [
    "# загрузим данные\n",
    "df = pd.read_csv('./datasets/sleep75.csv')"
   ]
  },
  {
   "cell_type": "code",
   "execution_count": null,
   "id": "e2266297",
   "metadata": {},
   "outputs": [],
   "source": [
    "y = df['sleep']\n",
    "X = df[['totwrk', 'age', 'educ', 'male', 'south', 'smsa']]\n",
    "# Разобьём выборку на обучающую и тестовую 80:20\n",
    "X_train,X_test,y_train,y_test = train_test_split(X,y,test_size=0.2,random_state=0)"
   ]
  },
  {
   "cell_type": "markdown",
   "id": "477355f4",
   "metadata": {},
   "source": [
    "## Спецификация и подгонка моделей"
   ]
  },
  {
   "cell_type": "code",
   "execution_count": null,
   "id": "ead36a45",
   "metadata": {},
   "outputs": [],
   "source": [
    "rgr_tree = DecisionTreeRegressor(max_depth=2, random_state=0)\n",
    "rgr_tree.fit(X_train, y_train)"
   ]
  },
  {
   "cell_type": "code",
   "execution_count": null,
   "id": "2e19e7bd",
   "metadata": {},
   "outputs": [],
   "source": [
    "plot_tree(rgr_tree)\n",
    "plt.show()"
   ]
  },
  {
   "cell_type": "markdown",
   "id": "5f3eaacb",
   "metadata": {},
   "source": [
    "## Метрика подгонки"
   ]
  },
  {
   "cell_type": "code",
   "execution_count": null,
   "id": "fac1e88c",
   "metadata": {},
   "outputs": [],
   "source": [
    "rgr_tree.score(X_test, y_test)"
   ]
  }
 ],
 "metadata": {
  "language_info": {
   "name": "python"
  }
 },
 "nbformat": 4,
 "nbformat_minor": 5
}
