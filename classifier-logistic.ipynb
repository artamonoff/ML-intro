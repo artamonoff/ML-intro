{
 "cells": [
  {
   "cell_type": "markdown",
   "id": "5b4ffa02",
   "metadata": {},
   "source": [
    "# Линейный классификатор. Логистическая регрессия\n",
    "\n",
    "Используем реализацию классификатора на основе [логистической регрессии](https://scikit-learn.org/stable/modules/linear_model.html#logistic-regression) в `sciki-learn` [LogisticRegression](https://scikit-learn.org/stable/modules/generated/sklearn.linear_model.LogisticRegression.html#sklearn.linear_model.LogisticRegression)"
   ]
  },
  {
   "cell_type": "code",
   "execution_count": 1,
   "id": "ed3e502c-0a55-4eae-9db4-b3a882ffdd8d",
   "metadata": {
    "tags": []
   },
   "outputs": [],
   "source": [
    "import numpy as np\n",
    "import pandas as pd\n",
    "\n",
    "from sklearn.linear_model import LogisticRegression\n",
    "from sklearn.model_selection import train_test_split\n",
    "# базовые метрики классификации\n",
    "from sklearn.metrics import accuracy_score, f1_score, auc, class_likelihood_ratios\n",
    "# ROC-curve, AUC\n",
    "from sklearn.metrics import roc_curve, roc_auc_score, RocCurveDisplay\n",
    "# Precision-recall\n",
    "from sklearn.metrics import precision_recall_curve, average_precision_score, PrecisionRecallDisplay\n",
    "\n",
    "import matplotlib.pyplot as plt\n",
    "\n",
    "# Не показывать FutureWarnings\n",
    "import warnings\n",
    "warnings.simplefilter(action='ignore', category=FutureWarning)"
   ]
  },
  {
   "cell_type": "markdown",
   "id": "ff1b7bbe",
   "metadata": {},
   "source": [
    "## Импорт и подготовка данных"
   ]
  },
  {
   "cell_type": "code",
   "execution_count": 2,
   "id": "4ab7a0b2-718e-4286-b254-8818684ab120",
   "metadata": {
    "tags": []
   },
   "outputs": [],
   "source": [
    "df = pd.read_csv('./datasets/loanapp.csv')\n",
    "df = df.dropna()"
   ]
  },
  {
   "cell_type": "code",
   "execution_count": null,
   "id": "f7b75d68-9b5a-47a4-bd0f-e7b1e41a4686",
   "metadata": {
    "tags": []
   },
   "outputs": [],
   "source": [
    "df = df.dropna()\n",
    "df.shape"
   ]
  },
  {
   "cell_type": "code",
   "execution_count": 4,
   "id": "db395f4d-d867-43fb-b189-da136449fbe5",
   "metadata": {
    "tags": []
   },
   "outputs": [],
   "source": [
    "y = df['approve']\n",
    "X = df.drop(columns=['approve','reject', 'action'])\n",
    "# Разобьём выборку на обучающую и тестовую 80:20\n",
    "X_train,X_test,y_train,y_test = train_test_split(X,y,test_size=0.2,random_state=0)"
   ]
  },
  {
   "cell_type": "markdown",
   "id": "b9175863",
   "metadata": {},
   "source": [
    "## Инициализация и обучение модели "
   ]
  },
  {
   "cell_type": "code",
   "execution_count": null,
   "id": "6452b09a-b7a9-4db7-b7a6-9854910e2970",
   "metadata": {
    "tags": []
   },
   "outputs": [],
   "source": [
    "clf = LogisticRegression(penalty=None, random_state=0)\n",
    "clf.fit(X_train, y_train)"
   ]
  },
  {
   "cell_type": "markdown",
   "id": "5aa2f520",
   "metadata": {},
   "source": [
    "## Прогнозирование (на тестовой выборке)"
   ]
  },
  {
   "cell_type": "code",
   "execution_count": null,
   "id": "c9a5b7ab-965f-42f2-b6fb-f7ffa33eade7",
   "metadata": {
    "tags": []
   },
   "outputs": [],
   "source": [
    "# прогноз на тестовой выборке\n",
    "clf.predict(X_test)"
   ]
  },
  {
   "cell_type": "code",
   "execution_count": null,
   "id": "d2cf7a84-9310-4b50-b867-e86b8add2d92",
   "metadata": {
    "tags": []
   },
   "outputs": [],
   "source": [
    "# прогноз вероятностей на тестовой выборке\n",
    "clf.predict_proba(X_test)"
   ]
  },
  {
   "cell_type": "markdown",
   "id": "d4b3ba75",
   "metadata": {},
   "source": [
    "## Метрики качестве прогнозов на тестовой выборке"
   ]
  },
  {
   "cell_type": "code",
   "execution_count": null,
   "id": "c22e079c",
   "metadata": {},
   "outputs": [],
   "source": [
    "# доля правильных прогнозов на тестовой выборке\n",
    "clf.score(X_test, y_test)"
   ]
  },
  {
   "cell_type": "code",
   "execution_count": null,
   "id": "658271ee",
   "metadata": {},
   "outputs": [],
   "source": [
    "# альтернативно: метод accuracy_score\n",
    "y_pred = clf.predict(X_test)\n",
    "accuracy_score(y_test, y_pred)"
   ]
  },
  {
   "cell_type": "code",
   "execution_count": null,
   "id": "7b159c8d",
   "metadata": {},
   "outputs": [],
   "source": [
    "# метрика F1\n",
    "f1_score(y_test, y_pred)"
   ]
  },
  {
   "cell_type": "code",
   "execution_count": null,
   "id": "5ba782ea",
   "metadata": {},
   "outputs": [],
   "source": [
    "# Метрика AUC-ROC\n",
    "y_pred_prob = clf.predict_proba(X_test)[:,1]\n",
    "fpr, tpr, _ = roc_curve (y_test, y_pred_prob)\n",
    "\n",
    "roc_auc_score (y_test, y_pred_prob)"
   ]
  },
  {
   "cell_type": "code",
   "execution_count": null,
   "id": "9f691019",
   "metadata": {},
   "outputs": [],
   "source": [
    "RocCurveDisplay.from_estimator(clf, X_test, y_test)\n",
    "plt.show()"
   ]
  },
  {
   "cell_type": "code",
   "execution_count": null,
   "id": "d024cc9b",
   "metadata": {},
   "outputs": [],
   "source": [
    "# метрика AUC-PR\n",
    "y_pred_prob = clf.predict_proba(X_test)[:,1]\n",
    "precision, recall, thresholds = precision_recall_curve(y_test, y_pred_prob)\n",
    "auc(recall, precision)"
   ]
  },
  {
   "cell_type": "code",
   "execution_count": null,
   "id": "705e9b91",
   "metadata": {},
   "outputs": [],
   "source": [
    "y_pred_prob = clf.predict_proba(X_test)[:,1]\n",
    "average_precision_score(y_test, y_pred_prob)"
   ]
  },
  {
   "cell_type": "code",
   "execution_count": null,
   "id": "d7df22f3",
   "metadata": {},
   "outputs": [],
   "source": [
    "PrecisionRecallDisplay.from_estimator(clf, X_test, y_test)\n",
    "plt.show()"
   ]
  },
  {
   "cell_type": "markdown",
   "id": "cc740296",
   "metadata": {},
   "source": [
    "## Сравнение нескольких классификаторов"
   ]
  },
  {
   "cell_type": "code",
   "execution_count": null,
   "id": "5a506b9e",
   "metadata": {},
   "outputs": [],
   "source": [
    "# Другой классификатор: логистическая регрессия со штрафом l2\n",
    "clf2 = LogisticRegression(penalty='l2', random_state=0)\n",
    "clf2.fit(X_train, y_train)\n",
    "\n",
    "# Другой классификатор: логистическая регрессия со штрафом l1\n",
    "clf3 = LogisticRegression(penalty='l1', random_state=0, solver='liblinear')\n",
    "clf3.fit(X_train, y_train)\n",
    "\n",
    "# Другой классификатор: логистическая регрессия со штрафом l2 и с=2\n",
    "clf4 = LogisticRegression(penalty='l2', random_state=0, C=2)\n",
    "clf4.fit(X_train, y_train)"
   ]
  },
  {
   "cell_type": "code",
   "execution_count": null,
   "id": "395c405b",
   "metadata": {},
   "outputs": [],
   "source": [
    "ax = plt.subplot()\n",
    "RocCurveDisplay.from_estimator(clf, X_test, y_test, ax=ax, name='no penalty')\n",
    "RocCurveDisplay.from_estimator(clf2, X_test, y_test, ax=ax, name='l2, C=1')\n",
    "RocCurveDisplay.from_estimator(clf3, X_test, y_test, ax=ax, name='l1, C=1')\n",
    "RocCurveDisplay.from_estimator(clf4, X_test, y_test, ax=ax, name='l2, C=2')\n",
    "\n",
    "plt.show()"
   ]
  },
  {
   "cell_type": "code",
   "execution_count": null,
   "id": "6d3c68b3",
   "metadata": {},
   "outputs": [],
   "source": [
    "ax = plt.subplot()\n",
    "\n",
    "PrecisionRecallDisplay.from_estimator(clf, X_test, y_test, ax=ax, name='no penalty')\n",
    "PrecisionRecallDisplay.from_estimator(clf2, X_test, y_test, ax=ax, name='l2, C=1')\n",
    "PrecisionRecallDisplay.from_estimator(clf3, X_test, y_test, ax=ax, name='l1, C=1')\n",
    "PrecisionRecallDisplay.from_estimator(clf4, X_test, y_test, ax=ax, name='l2, C=2')\n",
    "\n",
    "plt.show()"
   ]
  }
 ],
 "metadata": {
  "kernelspec": {
   "display_name": "base",
   "language": "python",
   "name": "python3"
  },
  "language_info": {
   "codemirror_mode": {
    "name": "ipython",
    "version": 3
   },
   "file_extension": ".py",
   "mimetype": "text/x-python",
   "name": "python",
   "nbconvert_exporter": "python",
   "pygments_lexer": "ipython3",
   "version": "3.12.7"
  }
 },
 "nbformat": 4,
 "nbformat_minor": 5
}
