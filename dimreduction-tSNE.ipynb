{
 "cells": [
  {
   "cell_type": "markdown",
   "id": "f2cb445e-cab6-4e64-bd5b-665b0e951059",
   "metadata": {},
   "source": [
    "# Снижение размерности методом t-SNE"
   ]
  },
  {
   "cell_type": "code",
   "execution_count": null,
   "id": "1fae3990-f93a-4a3f-9764-fecbfacc0f8c",
   "metadata": {
    "tags": []
   },
   "outputs": [],
   "source": [
    "import pandas as pd\n",
    "import numpy as np\n",
    "\n",
    "from sklearn.manifold import TSNE # Метод t-SNE\n",
    "from sklearn.preprocessing import StandardScaler  # z-нормировка\n",
    "# from sklearn.preprocessing import MinMaxScaler, RobustScaler # другие способы нормировки\n",
    "\n",
    "import matplotlib.pyplot as plt # 2D-визуализация\n",
    "import plotly.express as px # 3D-визуализация"
   ]
  },
  {
   "cell_type": "code",
   "execution_count": null,
   "id": "25cae165-6771-4d91-a8fc-63d7a3844d6c",
   "metadata": {
    "tags": []
   },
   "outputs": [],
   "source": [
    "df = pd.read_csv('./datasets/countries.csv')"
   ]
  },
  {
   "cell_type": "code",
   "execution_count": null,
   "id": "e8e32447-9da2-4f89-bbff-45e20ccff6dd",
   "metadata": {
    "tags": []
   },
   "outputs": [],
   "source": [
    "# Удалим нечисловые переменные\n",
    "X = df.drop(columns=['Страны'])\n",
    "X"
   ]
  },
  {
   "cell_type": "markdown",
   "id": "035f622e-0135-4d07-8918-0ac205e76cc4",
   "metadata": {},
   "source": [
    "## Нормирование данных\n",
    "\n",
    "Основные методы нормировки в `scikit-learn`\n",
    "\n",
    "|Методы|формула|класс в `scikit-learn`|\n",
    "|-|-|-|\n",
    "| z-нормировка | $(x_i-\\bar{x})/s.d.(x)$ |`StandardScaler`|\n",
    "| min-max- нормировка | $(x_i-x_{\\min})/(x_{\\max}-x_{\\min})$ | `MinMaxScaler` |\n",
    "| робастная нормировка | $(x_i-x_{med})/IQR$ | `RobustScaler` |"
   ]
  },
  {
   "cell_type": "code",
   "execution_count": null,
   "id": "255cd1e5-f523-455a-ab90-2cb81fa56539",
   "metadata": {
    "tags": []
   },
   "outputs": [],
   "source": [
    "# Специфицируем метод нормировки\n",
    "scaler = StandardScaler(with_mean=True, with_std=True)\n",
    "# scaler = MinMaxScaler()\n",
    "# scaler = RobustScaler()\n",
    "\n",
    "X_norm = scaler.fit_transform(X)"
   ]
  },
  {
   "cell_type": "markdown",
   "id": "8910f45c-29f4-4b2e-9bee-ea7238e7887e",
   "metadata": {},
   "source": [
    "## Снижение размерности методом t-SNE (2D)\n",
    "Вложим нормированные данные `X_norm` в пространство $\\mathbb R^2$ (`n_components=2`)\n",
    "\n",
    "Выберем параметр `perplexity=10`"
   ]
  },
  {
   "cell_type": "code",
   "execution_count": null,
   "id": "8e91904a-8ed9-4bba-9b4a-347ad8d2dbc7",
   "metadata": {
    "tags": []
   },
   "outputs": [],
   "source": [
    "tsne = TSNE(n_components=2, perplexity=10, random_state=2)\n",
    "X_embedded = tsne.fit_transform(X_norm)\n",
    "X_embedded.shape"
   ]
  },
  {
   "cell_type": "markdown",
   "id": "7cbbd452",
   "metadata": {},
   "source": [
    "Визуализация вложенных данных"
   ]
  },
  {
   "cell_type": "code",
   "execution_count": null,
   "id": "ba4243f9",
   "metadata": {},
   "outputs": [],
   "source": [
    "plt.scatter(x=X_embedded[:,0], y=X_embedded[:,1])\n",
    "plt.title('Страны')\n",
    "plt.show()"
   ]
  },
  {
   "cell_type": "markdown",
   "id": "e4a574de-1129-48c3-aeba-9ccd217b93d6",
   "metadata": {},
   "source": [
    "## Снижение размерности методом t-SNE (3D)\n",
    "Вложим нормированные данные `X_norm` в пространство $\\mathbb R^3$ (`n_components=3`)\n",
    "\n",
    "Выберем параметр `perplexity=5`"
   ]
  },
  {
   "cell_type": "code",
   "execution_count": null,
   "id": "a2c691ab-d17c-4d8a-b8b8-a49078cfb6d3",
   "metadata": {
    "tags": []
   },
   "outputs": [],
   "source": [
    "tsne = TSNE(n_components=3, perplexity=5, random_state=2)\n",
    "X_embedded_3d = tsne.fit_transform(X_norm)\n",
    "X_embedded_3d.shape"
   ]
  },
  {
   "cell_type": "code",
   "execution_count": null,
   "id": "a992628a-6199-4332-8dca-379c57ae8ab1",
   "metadata": {
    "tags": []
   },
   "outputs": [],
   "source": [
    "fig = px.scatter_3d(x=X_embedded_3d[:,0], y=X_embedded_3d[:,1], z=X_embedded_3d[:,2])\n",
    "fig.update_traces(marker_size=3)\n",
    "fig.show()"
   ]
  }
 ],
 "metadata": {
  "kernelspec": {
   "display_name": "base",
   "language": "python",
   "name": "python3"
  },
  "language_info": {
   "codemirror_mode": {
    "name": "ipython",
    "version": 3
   },
   "file_extension": ".py",
   "mimetype": "text/x-python",
   "name": "python",
   "nbconvert_exporter": "python",
   "pygments_lexer": "ipython3",
   "version": "3.12.10"
  }
 },
 "nbformat": 4,
 "nbformat_minor": 5
}
