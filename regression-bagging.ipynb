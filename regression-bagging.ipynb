{
 "cells": [
  {
   "cell_type": "markdown",
   "id": "bcfd1073-946f-4c20-92ca-709448a1f4b2",
   "metadata": {},
   "source": [
    "# Регрессия: ансамбли"
   ]
  },
  {
   "cell_type": "code",
   "execution_count": null,
   "id": "a4b423fd-34cc-4302-a3b4-3534db20514e",
   "metadata": {},
   "outputs": [],
   "source": [
    "import numpy as np\n",
    "import pandas as pd\n",
    "\n",
    "from sklearn.ensemble import BaggingRegressor\n",
    "from sklearn.tree import DecisionTreeRegressor\n",
    "from sklearn.linear_model import LinearRegression\n",
    "from sklearn.model_selection import train_test_split\n",
    "from sklearn.metrics import r2_score, mean_squared_error, root_mean_squared_error, mean_absolute_error, mean_absolute_percentage_error # метрики подгонки\n",
    "from sklearn.metrics import mean_squared_log_error, median_absolute_error, explained_variance_score # метрики подгонки\n",
    "\n",
    "# Не показывать Warning\n",
    "import warnings\n",
    "warnings.simplefilter(action='ignore', category=Warning)"
   ]
  },
  {
   "cell_type": "markdown",
   "id": "ce5f22de-f107-45a3-b1a2-0ed26be57eb4",
   "metadata": {},
   "source": [
    "## Данные"
   ]
  },
  {
   "cell_type": "code",
   "execution_count": null,
   "id": "3b6ac49c-4b49-4ca7-a0c4-180073205922",
   "metadata": {},
   "outputs": [],
   "source": [
    "# загрузим данные\n",
    "df = pd.read_csv('./datasets/sleep75.csv')"
   ]
  },
  {
   "cell_type": "code",
   "execution_count": null,
   "id": "6c6a2fc6-cf8b-48ee-983c-5d51b5c21c26",
   "metadata": {},
   "outputs": [],
   "source": [
    "y = df['sleep']\n",
    "X = df[['totwrk', 'age', 'educ', 'male', 'south', 'smsa']]\n",
    "# Разобьём выборку на обучающую и тестовую 80:20\n",
    "X_train,X_test,y_train,y_test = train_test_split(X,y,test_size=0.2,random_state=0)"
   ]
  },
  {
   "cell_type": "code",
   "execution_count": null,
   "id": "1e20a099",
   "metadata": {},
   "outputs": [],
   "source": [
    "rgr_lin = LinearRegression()\n",
    "rgr_lin.fit(X_train, y_train)\n",
    "\n",
    "rgr_tree = DecisionTreeRegressor(max_depth=4, random_state=0)\n",
    "rgr_tree.fit(X_train, y_train)"
   ]
  },
  {
   "cell_type": "code",
   "execution_count": null,
   "id": "6cceafda",
   "metadata": {},
   "outputs": [],
   "source": [
    "rgr_lin_bagging = BaggingRegressor(estimator=LinearRegression(), n_estimators=10, random_state=2)\n",
    "rgr_lin_bagging.fit(X_train, y_train)\n",
    "\n",
    "rgr_tree_bagging = BaggingRegressor(estimator=DecisionTreeRegressor(max_depth=4, random_state=0), n_estimators=10, random_state=2)\n",
    "rgr_tree_bagging.fit(X_train, y_train)"
   ]
  },
  {
   "cell_type": "markdown",
   "id": "db2cf637-11d7-4e9b-955f-383e2252f642",
   "metadata": {},
   "source": [
    "## Метрики подгонки"
   ]
  },
  {
   "cell_type": "code",
   "execution_count": null,
   "id": "3744ae2b-7671-4a5b-9f67-407c90e1e922",
   "metadata": {},
   "outputs": [],
   "source": [
    "# R^2 на тестовой выборке для линейной регрессии\n",
    "rgr_lin.score(X_test, y_test), rgr_lin_bagging.score(X_test, y_test)"
   ]
  },
  {
   "cell_type": "code",
   "execution_count": null,
   "id": "9ea6af40",
   "metadata": {},
   "outputs": [],
   "source": [
    "# R^2 на тестовой выборке для дереве\n",
    "rgr_tree.score(X_test, y_test), rgr_tree_bagging.score(X_test, y_test)"
   ]
  }
 ],
 "metadata": {
  "kernelspec": {
   "display_name": "base",
   "language": "python",
   "name": "python3"
  },
  "language_info": {
   "codemirror_mode": {
    "name": "ipython",
    "version": 3
   },
   "file_extension": ".py",
   "mimetype": "text/x-python",
   "name": "python",
   "nbconvert_exporter": "python",
   "pygments_lexer": "ipython3",
   "version": "3.12.10"
  }
 },
 "nbformat": 4,
 "nbformat_minor": 5
}
