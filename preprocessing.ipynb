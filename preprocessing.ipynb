{
 "cells": [
  {
   "cell_type": "markdown",
   "metadata": {},
   "source": [
    "# Обработка данных"
   ]
  },
  {
   "cell_type": "code",
   "execution_count": null,
   "metadata": {},
   "outputs": [],
   "source": [
    "import numpy as no\n",
    "import pandas as pd\n",
    "\n",
    "from sklearn.preprocessing import QuantileTransformer, PowerTransformer # преобразование данных\n",
    "from sklearn.preprocessing import OrdinalEncoder, LabelEncoder  # перекодирование категориальных переменных\n",
    "from sklearn.preprocessing import StandardScaler  # z-нормировка\n",
    "# from sklearn.preprocessing import MinMaxScaler, RobustScaler # другие способы нормировки\n",
    "\n",
    "import matplotlib.pyplot as plt\n",
    "\n",
    "# Не показывать Warning\n",
    "import warnings\n",
    "warnings.simplefilter(action='ignore', category=Warning)"
   ]
  },
  {
   "cell_type": "code",
   "execution_count": null,
   "metadata": {},
   "outputs": [],
   "source": [
    "df = pd.read_csv('./datasets/Diamond.csv')\n",
    "df.dtypes"
   ]
  },
  {
   "cell_type": "code",
   "execution_count": null,
   "metadata": {},
   "outputs": [],
   "source": [
    "df.head()"
   ]
  },
  {
   "cell_type": "markdown",
   "metadata": {},
   "source": [
    "## Преобразование количественных переменных"
   ]
  },
  {
   "cell_type": "code",
   "execution_count": null,
   "metadata": {},
   "outputs": [],
   "source": [
    "X = df[['carat', 'price']]"
   ]
  },
  {
   "cell_type": "markdown",
   "metadata": {},
   "source": [
    "### Квантильное преобразование"
   ]
  },
  {
   "cell_type": "code",
   "execution_count": null,
   "metadata": {},
   "outputs": [],
   "source": [
    "quantile_transformer = QuantileTransformer(output_distribution='normal', random_state=0)\n",
    "# quantile_transformer = QuantileTransformer(output_distribution='uniform', random_state=0)\n",
    "X_qtr = quantile_transformer.fit_transform(X)"
   ]
  },
  {
   "cell_type": "code",
   "execution_count": null,
   "metadata": {},
   "outputs": [],
   "source": [
    "fig, axs = plt.subplots(nrows=2, ncols=2)\n",
    "\n",
    "axs[0,0].hist(X['carat'], bins=30)\n",
    "axs[0,1].hist(X['price'], bins=30)\n",
    "axs[1,0].hist(X_qtr[:,0], bins=30)\n",
    "axs[1,1].hist(X_qtr[:,1], bins=30)\n",
    "\n",
    "axs[0,0].set_title('carat (levels)')\n",
    "axs[0,1].set_title('price (levels)')\n",
    "axs[1,0].set_title('carat (transformed)')\n",
    "axs[1,1].set_title('price (transformed)')\n",
    "\n",
    "plt.show()"
   ]
  },
  {
   "cell_type": "markdown",
   "metadata": {},
   "source": [
    "### Нелинейные преобразования"
   ]
  },
  {
   "cell_type": "code",
   "execution_count": null,
   "metadata": {},
   "outputs": [],
   "source": [
    "pt = PowerTransformer(method='yeo-johnson')\n",
    "# pt = PowerTransformer(method='box-cox')\n",
    "X_ptr = pt.fit_transform(X=X)\n",
    "pt.lambdas_"
   ]
  },
  {
   "cell_type": "code",
   "execution_count": null,
   "metadata": {},
   "outputs": [],
   "source": [
    "fig, axs = plt.subplots(nrows=2, ncols=2)\n",
    "\n",
    "axs[0,0].hist(X['carat'], bins=30)\n",
    "axs[0,1].hist(X['price'], bins=30)\n",
    "axs[1,0].hist(X_ptr[:,0], bins=30)\n",
    "axs[1,1].hist(X_ptr[:,1], bins=30)\n",
    "\n",
    "axs[0,0].set_title('carat (levels)')\n",
    "axs[0,1].set_title('price (levels)')\n",
    "axs[1,0].set_title('carat (transformed)')\n",
    "axs[1,1].set_title('price (transformed)')\n",
    "\n",
    "plt.show()"
   ]
  },
  {
   "cell_type": "markdown",
   "metadata": {},
   "source": [
    "## Оцифровка категориальных признаков\n",
    "\n",
    "### Преобразование в дамми"
   ]
  },
  {
   "cell_type": "code",
   "execution_count": null,
   "metadata": {},
   "outputs": [],
   "source": [
    "pd.get_dummies(data=df, columns=['certification'], prefix=None, dtype=int)"
   ]
  },
  {
   "cell_type": "markdown",
   "metadata": {},
   "source": [
    "### Оцифровка\n",
    "\n",
    "оцифровка признаков"
   ]
  },
  {
   "cell_type": "code",
   "execution_count": null,
   "metadata": {},
   "outputs": [],
   "source": [
    "enc = OrdinalEncoder()\n",
    "enc.fit(X=df[['colour', 'clarity']])\n",
    "enc.categories_"
   ]
  },
  {
   "cell_type": "code",
   "execution_count": null,
   "metadata": {},
   "outputs": [],
   "source": [
    "enc.fit_transform(X=df[['colour', 'clarity']])"
   ]
  },
  {
   "cell_type": "markdown",
   "metadata": {},
   "source": [
    "Оцифровка таргетной переменной"
   ]
  },
  {
   "cell_type": "code",
   "execution_count": null,
   "metadata": {},
   "outputs": [],
   "source": [
    "le = LabelEncoder()\n",
    "le.fit(y=df['colour'])\n",
    "le.classes_"
   ]
  },
  {
   "cell_type": "code",
   "execution_count": null,
   "metadata": {},
   "outputs": [],
   "source": [
    "le.fit_transform(y=df['colour'])"
   ]
  }
 ],
 "metadata": {
  "kernelspec": {
   "display_name": "Python 3 (ipykernel)",
   "language": "python",
   "name": "python3"
  },
  "language_info": {
   "codemirror_mode": {
    "name": "ipython",
    "version": 3
   },
   "file_extension": ".py",
   "mimetype": "text/x-python",
   "name": "python",
   "nbconvert_exporter": "python",
   "pygments_lexer": "ipython3",
   "version": "3.12.7"
  }
 },
 "nbformat": 4,
 "nbformat_minor": 4
}
