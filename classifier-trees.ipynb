{
 "cells": [
  {
   "cell_type": "code",
   "execution_count": 1,
   "id": "ed3e502c-0a55-4eae-9db4-b3a882ffdd8d",
   "metadata": {
    "tags": []
   },
   "outputs": [],
   "source": [
    "import numpy as np\n",
    "import pandas as pd\n",
    "\n",
    "from sklearn.tree import DecisionTreeClassifier, plot_tree\n",
    "from sklearn.model_selection import train_test_split\n",
    "from sklearn.metrics import roc_curve, roc_auc_score # ROC-curve, AUC\n",
    "\n",
    "import matplotlib.pyplot as plt\n",
    "\n",
    "# Не показывать FutureWarnings\n",
    "import warnings\n",
    "warnings.simplefilter(action='ignore', category=FutureWarning)"
   ]
  },
  {
   "cell_type": "code",
   "execution_count": 2,
   "id": "4ab7a0b2-718e-4286-b254-8818684ab120",
   "metadata": {
    "tags": []
   },
   "outputs": [],
   "source": [
    "df = pd.read_csv('./datasets/loanapp.csv')"
   ]
  },
  {
   "cell_type": "code",
   "execution_count": null,
   "id": "a650bafd-3f97-4b9f-8994-f5e8b1b7719d",
   "metadata": {
    "tags": []
   },
   "outputs": [],
   "source": [
    "df.head()"
   ]
  },
  {
   "cell_type": "code",
   "execution_count": null,
   "id": "bfd7e7a5-f867-4fa0-88ce-11a80e8c545b",
   "metadata": {
    "tags": []
   },
   "outputs": [],
   "source": [
    "df.shape"
   ]
  },
  {
   "cell_type": "code",
   "execution_count": null,
   "id": "f7b75d68-9b5a-47a4-bd0f-e7b1e41a4686",
   "metadata": {
    "tags": []
   },
   "outputs": [],
   "source": [
    "df = df.dropna()\n",
    "df.shape"
   ]
  },
  {
   "cell_type": "code",
   "execution_count": 6,
   "id": "db395f4d-d867-43fb-b189-da136449fbe5",
   "metadata": {
    "tags": []
   },
   "outputs": [],
   "source": [
    "y = df['approve']\n",
    "X = df.drop(columns=['approve','reject', 'action'])\n",
    "# Разобьём выборку на обучающую и тестовую 80:20\n",
    "X_train,X_test,y_train,y_test = train_test_split(X,y,test_size=0.2,random_state=0)"
   ]
  },
  {
   "cell_type": "code",
   "execution_count": null,
   "id": "6452b09a-b7a9-4db7-b7a6-9854910e2970",
   "metadata": {
    "tags": []
   },
   "outputs": [],
   "source": [
    "clf_tree = DecisionTreeClassifier(random_state=0)\n",
    "clf_tree.fit(X_train, y_train)"
   ]
  },
  {
   "cell_type": "code",
   "execution_count": null,
   "id": "c9a5b7ab-965f-42f2-b6fb-f7ffa33eade7",
   "metadata": {
    "tags": []
   },
   "outputs": [],
   "source": [
    "clf_tree.predict(X_test)"
   ]
  },
  {
   "cell_type": "code",
   "execution_count": null,
   "id": "d2cf7a84-9310-4b50-b867-e86b8add2d92",
   "metadata": {
    "tags": []
   },
   "outputs": [],
   "source": [
    "clf_tree.predict_proba(X_test)"
   ]
  },
  {
   "cell_type": "code",
   "execution_count": null,
   "id": "66004844-75bd-409c-82c7-cbe6031f562c",
   "metadata": {
    "tags": []
   },
   "outputs": [],
   "source": [
    "y_pred_prob = clf_tree.predict_proba(X_test)[:,1]\n",
    "fpr, tpr, _ = roc_curve (y_test, y_pred_prob)\n",
    "\n",
    "auc_roc = roc_auc_score (y_test, y_pred_prob)\n",
    "\n",
    "plt.plot (fpr,tpr,label=\"kNN AUC= \"+str(auc_roc))\n",
    "\n",
    "# y_pred_prob = clf_knn2.predict_proba(X_test)[:,1]\n",
    "# fpr, tpr, _ = roc_curve (y_test, y_pred_prob)\n",
    "\n",
    "# auc_roc = roc_auc_score (y_test, y_pred_prob)\n",
    "\n",
    "# plt.plot (fpr,tpr,label=\"kNN2 AUC= \"+str(auc_roc))\n",
    "\n",
    "plt.ylabel('True Positive Rate')\n",
    "plt.xlabel('False Positive Rate')\n",
    "plt.legend(loc=4)\n",
    "plt.show()"
   ]
  },
  {
   "cell_type": "code",
   "execution_count": null,
   "id": "62b7fdfd-46f8-4a86-96db-8b08a1d5e662",
   "metadata": {},
   "outputs": [],
   "source": [
    "# визуализация дерева\n",
    "plot_tree(clf_tree)"
   ]
  }
 ],
 "metadata": {
  "kernelspec": {
   "display_name": "Python 3 (ipykernel)",
   "language": "python",
   "name": "python3"
  },
  "language_info": {
   "codemirror_mode": {
    "name": "ipython",
    "version": 3
   },
   "file_extension": ".py",
   "mimetype": "text/x-python",
   "name": "python",
   "nbconvert_exporter": "python",
   "pygments_lexer": "ipython3",
   "version": "3.12.4"
  }
 },
 "nbformat": 4,
 "nbformat_minor": 5
}
