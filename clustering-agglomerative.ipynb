{
 "cells": [
  {
   "cell_type": "markdown",
   "id": "97f3351d-5127-4809-9b92-6d41df011ca4",
   "metadata": {},
   "source": [
    "# Иерархическая кластеризация\n",
    "\n",
    "\n",
    "Используем реализацию [иерархической кластеризации](https://scikit-learn.org/stable/modules/clustering.html#hierarchical-clustering) в [scikit-learn](https://scikit-learn.org/stable/index.html) (метод [AgglomerativeClustering](https://scikit-learn.org/stable/modules/generated/sklearn.cluster.AgglomerativeClustering.html))"
   ]
  },
  {
   "cell_type": "code",
   "execution_count": null,
   "id": "d3262ef9-8171-4eb6-a0aa-4a4b4633b285",
   "metadata": {
    "tags": []
   },
   "outputs": [],
   "source": [
    "import pandas as pd\n",
    "import numpy as np\n",
    "\n",
    "from sklearn.cluster import AgglomerativeClustering\n",
    "from sklearn.metrics import silhouette_score, calinski_harabasz_score, davies_bouldin_score\n",
    "from sklearn.preprocessing import StandardScaler  # z-нормировка\n",
    "# from sklearn.preprocessing import MinMaxScaler, RobustScaler # другие способы нормировки\n",
    "\n",
    "# import seaborn as sns # 2D-визуализация\n",
    "import plotly.express as px # 3D-визуализация\n",
    "\n",
    "# import matplotlib.pyplot as plt\n",
    "\n",
    "# Не показывать Warning\n",
    "import warnings\n",
    "warnings.simplefilter(action='ignore', category=Warning)"
   ]
  },
  {
   "cell_type": "code",
   "execution_count": null,
   "id": "3274c4af-3bc1-4e79-83e0-1d8adf48e072",
   "metadata": {
    "tags": []
   },
   "outputs": [],
   "source": [
    "df = pd.read_csv('./datasets/Countries.csv')\n",
    "# Удалим нечисловые переменные\n",
    "X = df.drop(columns=['Страны'])\n",
    "X.index = df['Страны']\n",
    "X"
   ]
  },
  {
   "cell_type": "markdown",
   "id": "4a6eccdb-9a88-49af-8de3-acd9a2ff0552",
   "metadata": {},
   "source": [
    "## Нормирование данных"
   ]
  },
  {
   "cell_type": "code",
   "execution_count": null,
   "id": "301ea625-7aca-427f-8d06-0e139145563c",
   "metadata": {
    "tags": []
   },
   "outputs": [],
   "source": [
    "# Специфицируем метод нормировки\n",
    "scaler = StandardScaler(with_mean=True, with_std=True)\n",
    "# scaler = MinMaxScaler()\n",
    "# scaler = RobustScaler()\n",
    "\n",
    "X_norm = scaler.fit_transform(X)"
   ]
  },
  {
   "cell_type": "markdown",
   "id": "4d044cac-297c-4d8a-b800-01b262bdd0bb",
   "metadata": {},
   "source": [
    "## Кластеризация"
   ]
  },
  {
   "cell_type": "code",
   "execution_count": null,
   "id": "6118afe6-78a1-4f2f-9afd-bdfa13f98b5a",
   "metadata": {
    "tags": []
   },
   "outputs": [],
   "source": [
    "# Специфицируем процедуру\n",
    "cluster = AgglomerativeClustering(n_clusters=3, metric='euclidean')\n",
    "# проводим кластеризацию\n",
    "cluster.fit(X_norm)\n",
    "\n",
    "print(cluster.labels_)"
   ]
  },
  {
   "cell_type": "markdown",
   "id": "b49f540b-71d0-4709-a162-27242b3fa7b5",
   "metadata": {},
   "source": [
    "## Метрики кластеризации\n",
    "[Основные метрики](https://scikit-learn.org/stable/modules/clustering.html#clustering-performance-evaluation)\n",
    "| Метрика |Метод |Критерий|\n",
    "|-|-|-|\n",
    "|Silhouette Coefficient|silhouette_score| max|\n",
    "|Calinski-Harabasz|calinski_harabasz_score|max|\n",
    "|Davies-Bouldin|davies_bouldin_score|min|"
   ]
  },
  {
   "cell_type": "code",
   "execution_count": null,
   "id": "c522c432-b2b4-421e-aa3c-d4e18c6f1fcc",
   "metadata": {},
   "outputs": [],
   "source": [
    "print('Silhouette Score=', silhouette_score(X_norm, cluster.labels_))\n",
    "print('Calinski-Harabasz Score=', calinski_harabasz_score(X_norm, cluster.labels_))\n",
    "print('Davies-Bouldin Score=', davies_bouldin_score(X_norm, cluster.labels_))"
   ]
  },
  {
   "cell_type": "markdown",
   "id": "29cfa9b3-5036-421c-be06-cc53cf119d25",
   "metadata": {
    "tags": []
   },
   "source": [
    "## Визуализация\n",
    "используем библиотеки [seaborn](https://seaborn.pydata.org/index.html) и [plotly](https://plotly.com/python/)"
   ]
  },
  {
   "cell_type": "code",
   "execution_count": null,
   "id": "fca6114f-a8e5-4258-9f16-d1baa32ab4c0",
   "metadata": {
    "tags": []
   },
   "outputs": [],
   "source": [
    "X['Cluster'] = cluster.labels_.astype(str)\n",
    "X.head()"
   ]
  },
  {
   "cell_type": "code",
   "execution_count": null,
   "id": "c4f5506e-3e8a-4389-a9f5-6b6ba7149635",
   "metadata": {
    "tags": []
   },
   "outputs": [],
   "source": [
    "# Визуализация в seaborn\n",
    "# sns.scatterplot(data=X, x='ИРЧП', y='Население', hue='Cluster')\n",
    "# sns.scatterplot(data=X, x='ИРЧП', y='ВВП д/н', hue='Cluster')\n",
    "# plt.show()"
   ]
  },
  {
   "cell_type": "markdown",
   "id": "8834df43",
   "metadata": {},
   "source": [
    "2D визуализация в plotly"
   ]
  },
  {
   "cell_type": "code",
   "execution_count": null,
   "id": "243caaa6",
   "metadata": {},
   "outputs": [],
   "source": [
    "fig = px.scatter(X, x='ИРЧП', y='Население', color='Cluster', hover_name=X.index)\n",
    "# fig.update_traces(marker_size=6)\n",
    "fig.show()"
   ]
  },
  {
   "cell_type": "code",
   "execution_count": null,
   "id": "9fc7bf2b",
   "metadata": {},
   "outputs": [],
   "source": [
    "fig = px.scatter(X, x='ИРЧП', y='ВВП д/н', color='Cluster', hover_name=X.index)\n",
    "# fig.update_traces(marker_size=5)\n",
    "fig.show()"
   ]
  },
  {
   "cell_type": "markdown",
   "id": "3432dd6e",
   "metadata": {},
   "source": [
    "3D визуализация в plotly"
   ]
  },
  {
   "cell_type": "code",
   "execution_count": null,
   "id": "fe8732d8-fe5e-4326-928c-ce733c69c236",
   "metadata": {
    "tags": []
   },
   "outputs": [],
   "source": [
    "fig = px.scatter_3d(X, x='ИРЧП', y='ВВП д/н', z='Безработица (%)', color='Cluster', hover_name=X.index)\n",
    "fig.update_traces(marker_size=4)\n",
    "fig.show()"
   ]
  }
 ],
 "metadata": {
  "kernelspec": {
   "display_name": "Python 3 (ipykernel)",
   "language": "python",
   "name": "python3"
  },
  "language_info": {
   "codemirror_mode": {
    "name": "ipython",
    "version": 3
   },
   "file_extension": ".py",
   "mimetype": "text/x-python",
   "name": "python",
   "nbconvert_exporter": "python",
   "pygments_lexer": "ipython3",
   "version": "3.12.5"
  }
 },
 "nbformat": 4,
 "nbformat_minor": 5
}
